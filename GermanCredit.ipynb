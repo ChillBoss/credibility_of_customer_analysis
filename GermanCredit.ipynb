{
 "cells": [
  {
   "cell_type": "code",
   "execution_count": 86,
   "metadata": {},
   "outputs": [],
   "source": [
    "#importing packages\n",
    "import pandas as pd\n",
    "import numpy as np\n",
    "import warnings\n",
    "warnings.filterwarnings('ignore')"
   ]
  },
  {
   "cell_type": "code",
   "execution_count": 80,
   "metadata": {},
   "outputs": [],
   "source": [
    "#loading the data set\n",
    "df=pd.read_csv(\"GermanCredit.csv\")"
   ]
  },
  {
   "cell_type": "code",
   "execution_count": 6,
   "metadata": {},
   "outputs": [
    {
     "data": {
      "text/plain": [
       "CHK_ACCT            int64\n",
       "DURATION            int64\n",
       "HISTORY             int64\n",
       "NEW_CAR             int64\n",
       "USED_CAR            int64\n",
       "FURNITURE           int64\n",
       "RADIO/TV            int64\n",
       "EDUCATION           int64\n",
       "RETRAINING          int64\n",
       "AMOUNT              int64\n",
       "SAV_ACCT            int64\n",
       "EMPLOYMENT          int64\n",
       "INSTALL_RATE        int64\n",
       "MALE_DIV            int64\n",
       "MALE_SINGLE         int64\n",
       "MALE_MAR_or_WID     int64\n",
       "CO-APPLICANT        int64\n",
       "GUARANTOR           int64\n",
       "PRESENT_RESIDENT    int64\n",
       "REAL_ESTATE         int64\n",
       "PROP_UNKN_NONE      int64\n",
       "AGE                 int64\n",
       "OTHER_INSTALL       int64\n",
       "RENT                int64\n",
       "OWN_RES             int64\n",
       "NUM_CREDITS         int64\n",
       "JOB                 int64\n",
       "NUM_DEPENDENTS      int64\n",
       "TELEPHONE           int64\n",
       "FOREIGN             int64\n",
       "RESPONSE            int64\n",
       "dtype: object"
      ]
     },
     "execution_count": 6,
     "metadata": {},
     "output_type": "execute_result"
    }
   ],
   "source": [
    "#viewing the data set\n",
    "df.head\n",
    "df.dtypes"
   ]
  },
  {
   "cell_type": "code",
   "execution_count": 7,
   "metadata": {},
   "outputs": [],
   "source": [
    "#converting the following features to 'category' type\n",
    "df[\"C_ACCOUNT\"]=df[\"CHK_ACCT\"].astype(\"category\")\n",
    "df['JOB_TYPE']=df['JOB'].astype('category')\n",
    "df['RESIDENT']=df['PRESENT_RESIDENT'].astype('category')\n",
    "df['EMPLOY']=df['EMPLOYMENT'].astype('category')\n",
    "df['S_ACCOUNT']=df['SAV_ACCT'].astype('category')\n",
    "df['CRED_HIST']=df['HISTORY'].astype('category')"
   ]
  },
  {
   "cell_type": "code",
   "execution_count": 12,
   "metadata": {
    "collapsed": true
   },
   "outputs": [
    {
     "ename": "KeyError",
     "evalue": "\"['CHK_ACCT' 'HISTORY' 'SAV_ACCT' 'PRESENT_RESIDENT' 'JOB' 'EMPLOYMENT'] not found in axis\"",
     "output_type": "error",
     "traceback": [
      "\u001b[1;31m---------------------------------------------------------------------------\u001b[0m",
      "\u001b[1;31mKeyError\u001b[0m                                  Traceback (most recent call last)",
      "\u001b[1;32m<ipython-input-12-b0632d521a06>\u001b[0m in \u001b[0;36m<module>\u001b[1;34m\u001b[0m\n\u001b[0;32m      1\u001b[0m \u001b[1;31m#dropping the old features\u001b[0m\u001b[1;33m\u001b[0m\u001b[1;33m\u001b[0m\u001b[1;33m\u001b[0m\u001b[0m\n\u001b[1;32m----> 2\u001b[1;33m \u001b[0mdf\u001b[0m\u001b[1;33m.\u001b[0m\u001b[0mdrop\u001b[0m\u001b[1;33m(\u001b[0m\u001b[1;33m[\u001b[0m\u001b[1;34m'CHK_ACCT'\u001b[0m\u001b[1;33m,\u001b[0m\u001b[1;34m'HISTORY'\u001b[0m\u001b[1;33m,\u001b[0m\u001b[1;34m'SAV_ACCT'\u001b[0m\u001b[1;33m,\u001b[0m\u001b[1;34m'PRESENT_RESIDENT'\u001b[0m\u001b[1;33m,\u001b[0m\u001b[1;34m'JOB'\u001b[0m\u001b[1;33m,\u001b[0m\u001b[1;34m'EMPLOYMENT'\u001b[0m\u001b[1;33m]\u001b[0m\u001b[1;33m,\u001b[0m\u001b[0maxis\u001b[0m\u001b[1;33m=\u001b[0m\u001b[1;36m1\u001b[0m\u001b[1;33m,\u001b[0m\u001b[0minplace\u001b[0m\u001b[1;33m=\u001b[0m\u001b[1;32mTrue\u001b[0m\u001b[1;33m)\u001b[0m\u001b[1;33m\u001b[0m\u001b[1;33m\u001b[0m\u001b[0m\n\u001b[0m",
      "\u001b[1;32m~\\Anaconda3\\lib\\site-packages\\pandas\\core\\frame.py\u001b[0m in \u001b[0;36mdrop\u001b[1;34m(self, labels, axis, index, columns, level, inplace, errors)\u001b[0m\n\u001b[0;32m   4100\u001b[0m             \u001b[0mlevel\u001b[0m\u001b[1;33m=\u001b[0m\u001b[0mlevel\u001b[0m\u001b[1;33m,\u001b[0m\u001b[1;33m\u001b[0m\u001b[1;33m\u001b[0m\u001b[0m\n\u001b[0;32m   4101\u001b[0m             \u001b[0minplace\u001b[0m\u001b[1;33m=\u001b[0m\u001b[0minplace\u001b[0m\u001b[1;33m,\u001b[0m\u001b[1;33m\u001b[0m\u001b[1;33m\u001b[0m\u001b[0m\n\u001b[1;32m-> 4102\u001b[1;33m             \u001b[0merrors\u001b[0m\u001b[1;33m=\u001b[0m\u001b[0merrors\u001b[0m\u001b[1;33m,\u001b[0m\u001b[1;33m\u001b[0m\u001b[1;33m\u001b[0m\u001b[0m\n\u001b[0m\u001b[0;32m   4103\u001b[0m         )\n\u001b[0;32m   4104\u001b[0m \u001b[1;33m\u001b[0m\u001b[0m\n",
      "\u001b[1;32m~\\Anaconda3\\lib\\site-packages\\pandas\\core\\generic.py\u001b[0m in \u001b[0;36mdrop\u001b[1;34m(self, labels, axis, index, columns, level, inplace, errors)\u001b[0m\n\u001b[0;32m   3912\u001b[0m         \u001b[1;32mfor\u001b[0m \u001b[0maxis\u001b[0m\u001b[1;33m,\u001b[0m \u001b[0mlabels\u001b[0m \u001b[1;32min\u001b[0m \u001b[0maxes\u001b[0m\u001b[1;33m.\u001b[0m\u001b[0mitems\u001b[0m\u001b[1;33m(\u001b[0m\u001b[1;33m)\u001b[0m\u001b[1;33m:\u001b[0m\u001b[1;33m\u001b[0m\u001b[1;33m\u001b[0m\u001b[0m\n\u001b[0;32m   3913\u001b[0m             \u001b[1;32mif\u001b[0m \u001b[0mlabels\u001b[0m \u001b[1;32mis\u001b[0m \u001b[1;32mnot\u001b[0m \u001b[1;32mNone\u001b[0m\u001b[1;33m:\u001b[0m\u001b[1;33m\u001b[0m\u001b[1;33m\u001b[0m\u001b[0m\n\u001b[1;32m-> 3914\u001b[1;33m                 \u001b[0mobj\u001b[0m \u001b[1;33m=\u001b[0m \u001b[0mobj\u001b[0m\u001b[1;33m.\u001b[0m\u001b[0m_drop_axis\u001b[0m\u001b[1;33m(\u001b[0m\u001b[0mlabels\u001b[0m\u001b[1;33m,\u001b[0m \u001b[0maxis\u001b[0m\u001b[1;33m,\u001b[0m \u001b[0mlevel\u001b[0m\u001b[1;33m=\u001b[0m\u001b[0mlevel\u001b[0m\u001b[1;33m,\u001b[0m \u001b[0merrors\u001b[0m\u001b[1;33m=\u001b[0m\u001b[0merrors\u001b[0m\u001b[1;33m)\u001b[0m\u001b[1;33m\u001b[0m\u001b[1;33m\u001b[0m\u001b[0m\n\u001b[0m\u001b[0;32m   3915\u001b[0m \u001b[1;33m\u001b[0m\u001b[0m\n\u001b[0;32m   3916\u001b[0m         \u001b[1;32mif\u001b[0m \u001b[0minplace\u001b[0m\u001b[1;33m:\u001b[0m\u001b[1;33m\u001b[0m\u001b[1;33m\u001b[0m\u001b[0m\n",
      "\u001b[1;32m~\\Anaconda3\\lib\\site-packages\\pandas\\core\\generic.py\u001b[0m in \u001b[0;36m_drop_axis\u001b[1;34m(self, labels, axis, level, errors)\u001b[0m\n\u001b[0;32m   3944\u001b[0m                 \u001b[0mnew_axis\u001b[0m \u001b[1;33m=\u001b[0m \u001b[0maxis\u001b[0m\u001b[1;33m.\u001b[0m\u001b[0mdrop\u001b[0m\u001b[1;33m(\u001b[0m\u001b[0mlabels\u001b[0m\u001b[1;33m,\u001b[0m \u001b[0mlevel\u001b[0m\u001b[1;33m=\u001b[0m\u001b[0mlevel\u001b[0m\u001b[1;33m,\u001b[0m \u001b[0merrors\u001b[0m\u001b[1;33m=\u001b[0m\u001b[0merrors\u001b[0m\u001b[1;33m)\u001b[0m\u001b[1;33m\u001b[0m\u001b[1;33m\u001b[0m\u001b[0m\n\u001b[0;32m   3945\u001b[0m             \u001b[1;32melse\u001b[0m\u001b[1;33m:\u001b[0m\u001b[1;33m\u001b[0m\u001b[1;33m\u001b[0m\u001b[0m\n\u001b[1;32m-> 3946\u001b[1;33m                 \u001b[0mnew_axis\u001b[0m \u001b[1;33m=\u001b[0m \u001b[0maxis\u001b[0m\u001b[1;33m.\u001b[0m\u001b[0mdrop\u001b[0m\u001b[1;33m(\u001b[0m\u001b[0mlabels\u001b[0m\u001b[1;33m,\u001b[0m \u001b[0merrors\u001b[0m\u001b[1;33m=\u001b[0m\u001b[0merrors\u001b[0m\u001b[1;33m)\u001b[0m\u001b[1;33m\u001b[0m\u001b[1;33m\u001b[0m\u001b[0m\n\u001b[0m\u001b[0;32m   3947\u001b[0m             \u001b[0mresult\u001b[0m \u001b[1;33m=\u001b[0m \u001b[0mself\u001b[0m\u001b[1;33m.\u001b[0m\u001b[0mreindex\u001b[0m\u001b[1;33m(\u001b[0m\u001b[1;33m**\u001b[0m\u001b[1;33m{\u001b[0m\u001b[0maxis_name\u001b[0m\u001b[1;33m:\u001b[0m \u001b[0mnew_axis\u001b[0m\u001b[1;33m}\u001b[0m\u001b[1;33m)\u001b[0m\u001b[1;33m\u001b[0m\u001b[1;33m\u001b[0m\u001b[0m\n\u001b[0;32m   3948\u001b[0m \u001b[1;33m\u001b[0m\u001b[0m\n",
      "\u001b[1;32m~\\Anaconda3\\lib\\site-packages\\pandas\\core\\indexes\\base.py\u001b[0m in \u001b[0;36mdrop\u001b[1;34m(self, labels, errors)\u001b[0m\n\u001b[0;32m   5338\u001b[0m         \u001b[1;32mif\u001b[0m \u001b[0mmask\u001b[0m\u001b[1;33m.\u001b[0m\u001b[0many\u001b[0m\u001b[1;33m(\u001b[0m\u001b[1;33m)\u001b[0m\u001b[1;33m:\u001b[0m\u001b[1;33m\u001b[0m\u001b[1;33m\u001b[0m\u001b[0m\n\u001b[0;32m   5339\u001b[0m             \u001b[1;32mif\u001b[0m \u001b[0merrors\u001b[0m \u001b[1;33m!=\u001b[0m \u001b[1;34m\"ignore\"\u001b[0m\u001b[1;33m:\u001b[0m\u001b[1;33m\u001b[0m\u001b[1;33m\u001b[0m\u001b[0m\n\u001b[1;32m-> 5340\u001b[1;33m                 \u001b[1;32mraise\u001b[0m \u001b[0mKeyError\u001b[0m\u001b[1;33m(\u001b[0m\u001b[1;34m\"{} not found in axis\"\u001b[0m\u001b[1;33m.\u001b[0m\u001b[0mformat\u001b[0m\u001b[1;33m(\u001b[0m\u001b[0mlabels\u001b[0m\u001b[1;33m[\u001b[0m\u001b[0mmask\u001b[0m\u001b[1;33m]\u001b[0m\u001b[1;33m)\u001b[0m\u001b[1;33m)\u001b[0m\u001b[1;33m\u001b[0m\u001b[1;33m\u001b[0m\u001b[0m\n\u001b[0m\u001b[0;32m   5341\u001b[0m             \u001b[0mindexer\u001b[0m \u001b[1;33m=\u001b[0m \u001b[0mindexer\u001b[0m\u001b[1;33m[\u001b[0m\u001b[1;33m~\u001b[0m\u001b[0mmask\u001b[0m\u001b[1;33m]\u001b[0m\u001b[1;33m\u001b[0m\u001b[1;33m\u001b[0m\u001b[0m\n\u001b[0;32m   5342\u001b[0m         \u001b[1;32mreturn\u001b[0m \u001b[0mself\u001b[0m\u001b[1;33m.\u001b[0m\u001b[0mdelete\u001b[0m\u001b[1;33m(\u001b[0m\u001b[0mindexer\u001b[0m\u001b[1;33m)\u001b[0m\u001b[1;33m\u001b[0m\u001b[1;33m\u001b[0m\u001b[0m\n",
      "\u001b[1;31mKeyError\u001b[0m: \"['CHK_ACCT' 'HISTORY' 'SAV_ACCT' 'PRESENT_RESIDENT' 'JOB' 'EMPLOYMENT'] not found in axis\""
     ]
    }
   ],
   "source": [
    "#dropping the old features\n",
    "df.drop(['CHK_ACCT','HISTORY','SAV_ACCT','PRESENT_RESIDENT','JOB','EMPLOYMENT'],axis=1,inplace=True)"
   ]
  },
  {
   "cell_type": "code",
   "execution_count": 17,
   "metadata": {
    "scrolled": true
   },
   "outputs": [
    {
     "data": {
      "text/plain": [
       "Index(['DURATION', 'NEW_CAR', 'USED_CAR', 'FURNITURE', 'RADIO/TV', 'EDUCATION',\n",
       "       'RETRAINING', 'AMOUNT', 'INSTALL_RATE', 'MALE_DIV', 'MALE_SINGLE',\n",
       "       'MALE_MAR_or_WID', 'CO-APPLICANT', 'GUARANTOR', 'REAL_ESTATE',\n",
       "       'PROP_UNKN_NONE', 'AGE', 'OTHER_INSTALL', 'RENT', 'OWN_RES',\n",
       "       'NUM_CREDITS', 'NUM_DEPENDENTS', 'TELEPHONE', 'FOREIGN', 'RESPONSE',\n",
       "       'C_ACCOUNT', 'JOB_TYPE', 'RESIDENT', 'EMPLOY', 'S_ACCOUNT',\n",
       "       'CRED_HIST'],\n",
       "      dtype='object')"
      ]
     },
     "execution_count": 17,
     "metadata": {},
     "output_type": "execute_result"
    }
   ],
   "source": [
    "#viewing the transformed data set\n",
    "#df.dtypes\n",
    "df.columns\n",
    "#df.shape"
   ]
  },
  {
   "cell_type": "code",
   "execution_count": 18,
   "metadata": {},
   "outputs": [],
   "source": [
    "#creating dummy variables for the categorical features\n",
    "dummies=pd.get_dummies(df,columns=['C_ACCOUNT','JOB_TYPE','RESIDENT','EMPLOY','S_ACCOUNT','CRED_HIST'],drop_first=True)"
   ]
  },
  {
   "cell_type": "code",
   "execution_count": 19,
   "metadata": {},
   "outputs": [
    {
     "data": {
      "text/plain": [
       "Index(['DURATION', 'NEW_CAR', 'USED_CAR', 'FURNITURE', 'RADIO/TV', 'EDUCATION',\n",
       "       'RETRAINING', 'AMOUNT', 'INSTALL_RATE', 'MALE_DIV', 'MALE_SINGLE',\n",
       "       'MALE_MAR_or_WID', 'CO-APPLICANT', 'GUARANTOR', 'REAL_ESTATE',\n",
       "       'PROP_UNKN_NONE', 'AGE', 'OTHER_INSTALL', 'RENT', 'OWN_RES',\n",
       "       'NUM_CREDITS', 'NUM_DEPENDENTS', 'TELEPHONE', 'FOREIGN', 'RESPONSE',\n",
       "       'C_ACCOUNT_1', 'C_ACCOUNT_2', 'C_ACCOUNT_3', 'JOB_TYPE_1', 'JOB_TYPE_2',\n",
       "       'JOB_TYPE_3', 'RESIDENT_2', 'RESIDENT_3', 'RESIDENT_4', 'EMPLOY_1',\n",
       "       'EMPLOY_2', 'EMPLOY_3', 'EMPLOY_4', 'S_ACCOUNT_1', 'S_ACCOUNT_2',\n",
       "       'S_ACCOUNT_3', 'S_ACCOUNT_4', 'CRED_HIST_1', 'CRED_HIST_2',\n",
       "       'CRED_HIST_3', 'CRED_HIST_4'],\n",
       "      dtype='object')"
      ]
     },
     "execution_count": 19,
     "metadata": {},
     "output_type": "execute_result"
    }
   ],
   "source": [
    "#viewing the shape and columns of the data set \n",
    "dummies.shape\n",
    "dummies.columns"
   ]
  },
  {
   "cell_type": "code",
   "execution_count": 20,
   "metadata": {},
   "outputs": [],
   "source": [
    "#creating the target variable\n",
    "target=dummies[['RESPONSE']]"
   ]
  },
  {
   "cell_type": "code",
   "execution_count": 21,
   "metadata": {},
   "outputs": [],
   "source": [
    "#dropping the target variable from the data set\n",
    "dummies.drop('RESPONSE',axis=1,inplace=True)"
   ]
  },
  {
   "cell_type": "code",
   "execution_count": 22,
   "metadata": {},
   "outputs": [
    {
     "data": {
      "text/plain": [
       "(1000, 45)"
      ]
     },
     "execution_count": 22,
     "metadata": {},
     "output_type": "execute_result"
    }
   ],
   "source": [
    "#creating the data as numpy array\n",
    "data=np.array(dummies)\n",
    "data.shape"
   ]
  },
  {
   "cell_type": "code",
   "execution_count": 23,
   "metadata": {},
   "outputs": [
    {
     "data": {
      "text/plain": [
       "(1000, 1)"
      ]
     },
     "execution_count": 23,
     "metadata": {},
     "output_type": "execute_result"
    }
   ],
   "source": [
    "#transforming the target into numpy array\n",
    "target=np.array(target)\n",
    "target.shape"
   ]
  },
  {
   "cell_type": "code",
   "execution_count": 24,
   "metadata": {},
   "outputs": [],
   "source": [
    "#Using X as data and y as target\n",
    "X=data\n",
    "y=target"
   ]
  },
  {
   "cell_type": "code",
   "execution_count": 27,
   "metadata": {},
   "outputs": [
    {
     "data": {
      "text/plain": [
       "(1000, 1)"
      ]
     },
     "execution_count": 27,
     "metadata": {},
     "output_type": "execute_result"
    }
   ],
   "source": [
    "#viewing the shape of the data and target\n",
    "X.shape\n",
    "y.shape"
   ]
  },
  {
   "cell_type": "code",
   "execution_count": 28,
   "metadata": {},
   "outputs": [],
   "source": [
    "#importing scikit learn packages\n",
    "from sklearn.neighbors import KNeighborsClassifier\n",
    "from sklearn.tree import DecisionTreeClassifier\n",
    "from sklearn.linear_model import LogisticRegression\n",
    "from sklearn.ensemble import RandomForestClassifier\n",
    "from sklearn.ensemble import AdaBoostClassifier\n",
    "from sklearn.model_selection import train_test_split\n",
    "from sklearn.model_selection import cross_val_score\n",
    "from sklearn import metrics\n",
    "from sklearn.preprocessing import binarize\n",
    "import matplotlib.pyplot as plt"
   ]
  },
  {
   "cell_type": "code",
   "execution_count": null,
   "metadata": {},
   "outputs": [],
   "source": [
    "# first using train-test split (70:30)\n",
    "X_train, X_test, y_train, y_test=train_test_split(X,y,test_size=0.3)\n",
    "print(X_train.shape)\n",
    "print(y_test.shape)"
   ]
  },
  {
   "cell_type": "markdown",
   "metadata": {},
   "source": [
    "## 1. Logistic Regression"
   ]
  },
  {
   "cell_type": "code",
   "execution_count": 87,
   "metadata": {},
   "outputs": [
    {
     "name": "stdout",
     "output_type": "stream",
     "text": [
      "Logistic Regression\n",
      "0.7333333333333333\n"
     ]
    }
   ],
   "source": [
    "print(\"Logistic Regression\")\n",
    "logreg=LogisticRegression()\n",
    "logreg.fit(X_train,y_train)\n",
    "y_pred_logreg=logreg.predict(X_test)\n",
    "print(metrics.accuracy_score(y_test,y_pred_logreg))"
   ]
  },
  {
   "cell_type": "markdown",
   "metadata": {},
   "source": [
    "### 1.1 10-fold cross validation "
   ]
  },
  {
   "cell_type": "code",
   "execution_count": 88,
   "metadata": {},
   "outputs": [
    {
     "name": "stdout",
     "output_type": "stream",
     "text": [
      "Accuracy 0.7529999999999999\n"
     ]
    }
   ],
   "source": [
    "accuracy = cross_val_score(logreg, X, y, cv = 10, scoring='accuracy').mean()\n",
    "print('Accuracy {}'.format(accuracy))"
   ]
  },
  {
   "cell_type": "markdown",
   "metadata": {},
   "source": [
    "## 2. K - Nearest Neighbours"
   ]
  },
  {
   "cell_type": "code",
   "execution_count": 89,
   "metadata": {},
   "outputs": [
    {
     "name": "stdout",
     "output_type": "stream",
     "text": [
      "knn\n",
      "0.63\n"
     ]
    }
   ],
   "source": [
    "print(\"knn\")\n",
    "knn=KNeighborsClassifier(n_neighbors=5)\n",
    "knn.fit(X_train,y_train)\n",
    "y_pred_knn=knn.predict(X_test)\n",
    "print(metrics.accuracy_score(y_test,y_pred_knn))"
   ]
  },
  {
   "cell_type": "markdown",
   "metadata": {},
   "source": [
    "## Random Forests"
   ]
  },
  {
   "cell_type": "code",
   "execution_count": 90,
   "metadata": {},
   "outputs": [
    {
     "name": "stdout",
     "output_type": "stream",
     "text": [
      "Random Forest\n",
      "0.7233333333333334\n",
      "[0.09763551 0.01891877 0.01373169 0.01520661 0.01566303 0.01227202\n",
      " 0.01169562 0.12684328 0.04119499 0.00720757 0.02326264 0.00769151\n",
      " 0.00702221 0.00828221 0.01808636 0.01231086 0.09496316 0.02056268\n",
      " 0.01398776 0.01874629 0.02068691 0.00978923 0.02001052 0.00400011\n",
      " 0.01587726 0.01297366 0.07397186 0.01236175 0.01916047 0.01400105\n",
      " 0.0154128  0.01360492 0.01377139 0.0172505  0.016829   0.0121185\n",
      " 0.01685408 0.01062917 0.01054694 0.00824774 0.02017753 0.01247795\n",
      " 0.0148624  0.00787422 0.02122529]\n",
      "0.7166666666666667\n",
      "[0.09696893 0.02148212 0.01266162 0.01442247 0.0166118  0.01307825\n",
      " 0.0083389  0.12299011 0.04067053 0.00670994 0.02043205 0.00799209\n",
      " 0.00767876 0.00723361 0.01905109 0.01199244 0.09458625 0.02175556\n",
      " 0.01226656 0.021025   0.01737112 0.01347418 0.0187229  0.00427364\n",
      " 0.02336695 0.01207674 0.07155955 0.01075359 0.017342   0.0121361\n",
      " 0.01617239 0.01321519 0.01925292 0.02174297 0.01748584 0.01376497\n",
      " 0.01451072 0.01153444 0.00824702 0.00482218 0.02151268 0.01565182\n",
      " 0.01568228 0.01007487 0.01730485]\n"
     ]
    }
   ],
   "source": [
    "print(\"Random Forest\")\n",
    "#Random Forest\n",
    "rfc=RandomForestClassifier(n_estimators=50,criterion='entropy')\n",
    "rfc.fit(X_train,y_train)\n",
    "y_pred_rfc=rfc.predict(X_test)\n",
    "print(metrics.accuracy_score(y_test,y_pred_rfc))\n",
    "print(rfc.feature_importances_)\n",
    "\n",
    "rfc1=RandomForestClassifier(n_estimators=70,criterion='gini')\n",
    "rfc1.fit(X_train,y_train)\n",
    "y_pred_rfc1=rfc1.predict(X_test)\n",
    "print(metrics.accuracy_score(y_test,y_pred_rfc1))\n",
    "print(rfc1.feature_importances_)"
   ]
  },
  {
   "cell_type": "markdown",
   "metadata": {},
   "source": [
    "## Ada Boosting"
   ]
  },
  {
   "cell_type": "code",
   "execution_count": 91,
   "metadata": {},
   "outputs": [
    {
     "name": "stdout",
     "output_type": "stream",
     "text": [
      "Ada Boosting\n",
      "0.7133333333333334\n"
     ]
    }
   ],
   "source": [
    "print(\"Ada Boosting\")\n",
    "#AdaBoosting\n",
    "abc=AdaBoostClassifier(n_estimators=75)\n",
    "abc.fit(X_train,y_train)\n",
    "y_pred_abc=abc.predict(X_test)\n",
    "print(metrics.accuracy_score(y_test,y_pred_abc))"
   ]
  },
  {
   "cell_type": "markdown",
   "metadata": {},
   "source": [
    "## Decision Trees"
   ]
  },
  {
   "cell_type": "code",
   "execution_count": 47,
   "metadata": {},
   "outputs": [
    {
     "name": "stdout",
     "output_type": "stream",
     "text": [
      "Decision Tree\n",
      "0.67\n",
      "0.6666666666666666\n",
      "0.6833333333333333\n",
      "0.6766666666666666\n",
      "0.6833333333333333\n",
      "0.6766666666666666\n",
      "0.65\n",
      "0.6966666666666667\n"
     ]
    }
   ],
   "source": [
    "print(\"Decision Tree\")\n",
    "#Decision Tree\n",
    "dt=DecisionTreeClassifier(criterion='gini', splitter='best', max_depth=None, min_samples_split=2, min_samples_leaf=1, min_weight_fraction_leaf=0.0, max_features=None, random_state=None, max_leaf_nodes=None)\n",
    "dt.fit(X_train,y_train)\n",
    "y_pred=dt.predict(X_test)\n",
    "print(metrics.accuracy_score(y_test,y_pred))\n",
    "\n",
    "dt=DecisionTreeClassifier(criterion='gini', splitter='best', max_depth=16, min_samples_split=4, min_samples_leaf=1, min_weight_fraction_leaf=0.0, max_features=None, random_state=2, max_leaf_nodes=None)\n",
    "dt.fit(X_train,y_train)\n",
    "y_pred=dt.predict(X_test)\n",
    "print(metrics.accuracy_score(y_test,y_pred))\n",
    "\n",
    "dt=DecisionTreeClassifier(criterion='entropy', splitter='best', max_depth=16, min_samples_split=4, min_samples_leaf=1, min_weight_fraction_leaf=0.0, max_features=None, random_state=2, max_leaf_nodes=None)\n",
    "dt.fit(X_train,y_train)\n",
    "y_pred=dt.predict(X_test)\n",
    "print(metrics.accuracy_score(y_test,y_pred))\n",
    "\n",
    "dt=DecisionTreeClassifier(criterion='entropy', splitter='best', max_depth=None, min_samples_split=2, min_samples_leaf=1, min_weight_fraction_leaf=0.0, max_features=None, random_state=None, max_leaf_nodes=None)\n",
    "dt.fit(X_train,y_train)\n",
    "y_pred=dt.predict(X_test)\n",
    "print(metrics.accuracy_score(y_test,y_pred))\n",
    "\n",
    "dt=DecisionTreeClassifier(criterion='entropy', splitter='random', max_depth=None, min_samples_split=2, min_samples_leaf=1, min_weight_fraction_leaf=0.0, max_features=None, random_state=None, max_leaf_nodes=None)\n",
    "dt.fit(X_train,y_train)\n",
    "y_pred=dt.predict(X_test)\n",
    "print(metrics.accuracy_score(y_test,y_pred))\n",
    "\n",
    "dt=DecisionTreeClassifier(criterion='entropy', splitter='random', max_depth=20, min_samples_split=4, min_samples_leaf=3, min_weight_fraction_leaf=0.0, max_features=None, random_state=None, max_leaf_nodes=None)\n",
    "dt.fit(X_train,y_train)\n",
    "y_pred=dt.predict(X_test)\n",
    "print(metrics.accuracy_score(y_test,y_pred))\n",
    "\n",
    "dt=DecisionTreeClassifier(criterion='entropy', splitter='random', max_depth=12, min_samples_split=4, min_samples_leaf=3, min_weight_fraction_leaf=0.0, max_features=None, random_state=None, max_leaf_nodes=None)\n",
    "dt.fit(X_train,y_train)\n",
    "y_pred=dt.predict(X_test)\n",
    "print(metrics.accuracy_score(y_test,y_pred))\n",
    "\n",
    "dt=DecisionTreeClassifier(criterion='entropy', splitter='random', max_depth=12, min_samples_split=4, min_samples_leaf=3, min_weight_fraction_leaf=0.0, max_features=None, random_state=None, max_leaf_nodes=30)\n",
    "dt.fit(X_train,y_train)\n",
    "y_pred=dt.predict(X_test)\n",
    "print(metrics.accuracy_score(y_test,y_pred))"
   ]
  },
  {
   "cell_type": "code",
   "execution_count": 48,
   "metadata": {},
   "outputs": [
    {
     "name": "stdout",
     "output_type": "stream",
     "text": [
      "[[ 35  56]\n",
      " [ 35 174]]\n"
     ]
    }
   ],
   "source": [
    "#Confusion Matrix and other metrics (Accuracy,Error Rate,Precision,Sensitivity (Recall),Specificity,False Positive Rate)\n",
    "print(metrics.confusion_matrix(y_test,y_pred))"
   ]
  },
  {
   "cell_type": "code",
   "execution_count": 49,
   "metadata": {},
   "outputs": [],
   "source": [
    "confusion=metrics.confusion_matrix(y_test,y_pred)"
   ]
  },
  {
   "cell_type": "code",
   "execution_count": 50,
   "metadata": {},
   "outputs": [],
   "source": [
    "TP=confusion[1,1]\n",
    "TN=confusion[0,0]\n",
    "FP=confusion[0,1]\n",
    "FN=confusion[1,0]"
   ]
  },
  {
   "cell_type": "code",
   "execution_count": 51,
   "metadata": {},
   "outputs": [
    {
     "data": {
      "text/plain": [
       "(174, 35, 56, 35)"
      ]
     },
     "execution_count": 51,
     "metadata": {},
     "output_type": "execute_result"
    }
   ],
   "source": [
    "TP,TN,FP,FN"
   ]
  },
  {
   "cell_type": "code",
   "execution_count": 52,
   "metadata": {},
   "outputs": [
    {
     "name": "stdout",
     "output_type": "stream",
     "text": [
      "Accuracy is 0.6966666666666667\n",
      "Error Rate is 0.30333333333333334\n",
      "Recall is 0.8325358851674641\n",
      "Precision is 0.7565217391304347\n",
      "Speicificity is 0.38461538461538464\n",
      "False Positive Rate is 0.6153846153846154\n"
     ]
    }
   ],
   "source": [
    "#Accuracy\n",
    "print(\"Accuracy is {0}\".format((TP+TN)/float(TP+TN+FP+FN)))\n",
    "#print(metrics.accuracy_score(y_test,y_pred))\n",
    "#0.7\n",
    "\n",
    "#Error Rate\n",
    "print(\"Error Rate is {0}\".format((FP+FN)/float(TP+TN+FP+FN)))\n",
    "#print(1-metrics.accuracy_score(y_test,y_pred))\n",
    "#0.3\n",
    "\n",
    "#Recall\n",
    "print(\"Recall is {0}\".format(TP/float(TP+FN)))\n",
    "#print(metrics.recall_score(y_test,y_pred))\n",
    "#0.756880733945\n",
    "\n",
    "#Precision\n",
    "print(\"Precision is {0}\".format(TP/float(TP+FP)))\n",
    "#print(metrics.precision_score(y_test,y_pred))\n",
    "#0.816831683168\n",
    "\n",
    "#Specificity\n",
    "print(\"Speicificity is {0}\".format(TN/float(TN+FP)))\n",
    "#0.548780487805\n",
    "\n",
    "#False Positive Rate\n",
    "print(\"False Positive Rate is {0}\".format(FP/float(TN+FP)))\n",
    "#0.451219512195"
   ]
  },
  {
   "cell_type": "code",
   "execution_count": 60,
   "metadata": {},
   "outputs": [
    {
     "data": {
      "image/png": "[encoded data removed]",
      "text/plain": [
       "<Figure size 432x288 with 1 Axes>"
      ]
     },
     "metadata": {
      "needs_background": "light"
     },
     "output_type": "display_data"
    }
   ],
   "source": [
    "#Predicted probability of test set\n",
    "y_pred_prob=dt.predict_proba(X_test)[:,1]\n",
    "\n",
    "#Plotting histogram of the predicted probabilities\n",
    "plt.hist(y_pred_prob,bins=8)\n",
    "plt.xlim(0,1)\n",
    "plt.xlabel('Predicted probability')\n",
    "plt.ylabel('Frequency')\n",
    "plt.show()"
   ]
  },
  {
   "cell_type": "markdown",
   "metadata": {},
   "source": [
    "## Performance Measurement of our model\n",
    "#### AUC ROC Curve"
   ]
  },
  {
   "cell_type": "code",
   "execution_count": 64,
   "metadata": {},
   "outputs": [
    {
     "name": "stdout",
     "output_type": "stream",
     "text": [
      "[[ 25  66]\n",
      " [ 22 187]]\n",
      "Accuracy when Threshold=0.3 is 0.7066666666666667\n",
      "Precision when Threshold=0.3 is 0.7391304347826086\n",
      "Recall when Threshold=0.3 is 0.8947368421052632\n"
     ]
    }
   ],
   "source": [
    "#threshold=0.3 for predicted probabilities\n",
    "y_pred1=binarize([y_pred_prob],0.3)[0]\n",
    "\n",
    "print(metrics.confusion_matrix(y_test,y_pred1))\n",
    "\n",
    "print(\"Accuracy when Threshold=0.3 is {0}\".format(metrics.accuracy_score(y_test,y_pred1)))\n",
    "\n",
    "#Precision at threshold=0.3\n",
    "print(\"Precision when Threshold=0.3 is {0}\".format(metrics.precision_score(y_test,y_pred1)))\n",
    "\n",
    "#Recall at threshold=0.3\n",
    "print(\"Recall when Threshold=0.3 is {0}\".format(metrics.recall_score(y_test,y_pred1)))\n"
   ]
  },
  {
   "cell_type": "code",
   "execution_count": 66,
   "metadata": {},
   "outputs": [
    {
     "name": "stdout",
     "output_type": "stream",
     "text": [
      "[[ 25  66]\n",
      " [ 23 186]]\n",
      "Accuracy when Threshold=0.4 is 0.7033333333333334\n",
      "Precision when Threshold=0.4 is 0.7380952380952381\n",
      "Recall when Threshold=0.4 is 0.8899521531100478\n"
     ]
    }
   ],
   "source": [
    "#threshold=0.4 for predicted probabilities\n",
    "y_pred2=binarize([y_pred_prob],0.4)[0]\n",
    "\n",
    "print(metrics.confusion_matrix(y_test,y_pred2))\n",
    "\n",
    "\n",
    "print(\"Accuracy when Threshold=0.4 is {0}\".format(metrics.accuracy_score(y_test,y_pred2)))\n",
    "#0.716666666667\n",
    "\n",
    "#Precision at threshold=0.3\n",
    "print(\"Precision when Threshold=0.4 is {0}\".format(metrics.precision_score(y_test,y_pred2)))\n",
    "#0.754789272031\n",
    "\n",
    "#Recall at threshold=0.3\n",
    "print(\"Recall when Threshold=0.4 is {0}\".format(metrics.recall_score(y_test,y_pred2)))\n",
    "#0.903669724771"
   ]
  },
  {
   "cell_type": "markdown",
   "metadata": {},
   "source": [
    "# ROC Curve and AUC"
   ]
  },
  {
   "cell_type": "code",
   "execution_count": 81,
   "metadata": {},
   "outputs": [
    {
     "data": {
      "image/png": "[encoded data removed]",
      "text/plain": [
       "<Figure size 432x288 with 1 Axes>"
      ]
     },
     "metadata": {
      "needs_background": "light"
     },
     "output_type": "display_data"
    }
   ],
   "source": [
    "#True Positive Rate, False Positive Rate and Thresholds\n",
    "tpr,fpr,thresholds=metrics.roc_curve(y_test,y_pred_prob)\n",
    "\n",
    "#Plotting the ROC curve\n",
    "plt.plot(fpr,tpr)\n",
    "plt.xlim(0,1)\n",
    "plt.ylim(0,1)\n",
    "plt.title('ROC curve for credit classifier')\n",
    "plt.xlabel('False Positive Rate (1 — Specificity)')\n",
    "plt.ylabel('True Positive Rate (Sensitivity)')\n",
    "plt.grid(True)\n",
    "plt.show()\n",
    "\n",
    "#tpr,fpr"
   ]
  },
  {
   "cell_type": "code",
   "execution_count": 73,
   "metadata": {},
   "outputs": [],
   "source": [
    "#Defining a function to find Sensitivity and Specificity at different thresholds\n",
    "def evaluate_threshold(threshold):\n",
    "    print('Sensitivity:',tpr[thresholds>threshold][-1])\n",
    "    print('Specificity:',1-(fpr[thresholds>threshold])[-1])"
   ]
  },
  {
   "cell_type": "code",
   "execution_count": 74,
   "metadata": {},
   "outputs": [
    {
     "name": "stdout",
     "output_type": "stream",
     "text": [
      "Sensitivity: 0.7252747252747253\n",
      "Specificity: 0.10526315789473684\n"
     ]
    }
   ],
   "source": [
    "evaluate_threshold(0.3)"
   ]
  },
  {
   "cell_type": "code",
   "execution_count": 78,
   "metadata": {},
   "outputs": [
    {
     "name": "stdout",
     "output_type": "stream",
     "text": [
      "Sensitivity: 0.7252747252747253\n",
      "Specificity: 0.11004784688995217\n"
     ]
    }
   ],
   "source": [
    "evaluate_threshold(0.4)"
   ]
  },
  {
   "cell_type": "code",
   "execution_count": 79,
   "metadata": {},
   "outputs": [
    {
     "name": "stdout",
     "output_type": "stream",
     "text": [
      "Sensitivity: 0.6153846153846154\n",
      "Specificity: 0.16746411483253587\n"
     ]
    }
   ],
   "source": [
    "evaluate_threshold(0.5)"
   ]
  },
  {
   "cell_type": "markdown",
   "metadata": {},
   "source": [
    "## AUC Curve"
   ]
  },
  {
   "cell_type": "code",
   "execution_count": 82,
   "metadata": {},
   "outputs": [
    {
     "name": "stdout",
     "output_type": "stream",
     "text": [
      "0.6639939008360062\n"
     ]
    }
   ],
   "source": [
    "#Printing the ROC AUC score\n",
    "print(metrics.roc_auc_score(y_test,y_pred_prob))"
   ]
  },
  {
   "cell_type": "code",
   "execution_count": null,
   "metadata": {},
   "outputs": [],
   "source": []
  },
  {
   "cell_type": "code",
   "execution_count": null,
   "metadata": {},
   "outputs": [],
   "source": []
  },
  {
   "cell_type": "code",
   "execution_count": null,
   "metadata": {},
   "outputs": [],
   "source": []
  }
 ],
 "metadata": {
  "anaconda-cloud": {},
  "kernelspec": {
   "display_name": "Python 3",
   "language": "python",
   "name": "python3"
  },
  "language_info": {
   "codemirror_mode": {
    "name": "ipython",
    "version": 3
   },
   "file_extension": ".py",
   "mimetype": "text/x-python",
   "name": "python",
   "nbconvert_exporter": "python",
   "pygments_lexer": "ipython3",
   "version": "3.7.4"
  }
 },
 "nbformat": 4,
 "nbformat_minor": 1
}
