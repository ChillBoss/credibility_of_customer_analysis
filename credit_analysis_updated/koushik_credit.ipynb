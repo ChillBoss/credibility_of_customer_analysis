{
 "cells": [
  {
   "cell_type": "code",
   "execution_count": 1,
   "metadata": {},
   "outputs": [],
   "source": [
    "import csv\n",
    "import pandas as pd\n",
    "import numpy as np\n",
    "import matplotlib.pyplot as plt\n",
    "import seaborn as sns\n",
    "#from sklearn import cross_validation, preprocessing \n",
    "from sklearn.linear_model import LogisticRegression\n",
    "from sklearn.model_selection import train_test_split\n",
    "from sklearn import metrics\n",
    "from patsy import dmatrices\n",
    "\n",
    " \n",
    "\n",
    "import scipy.stats \n",
    "import random\n",
    "\n",
    "\n",
    "%matplotlib inline\n",
    "\n"
   ]
  },
  {
   "cell_type": "code",
   "execution_count": 4,
   "metadata": {},
   "outputs": [
    {
     "name": "stdout",
     "output_type": "stream",
     "text": [
      "Index(['Creditability', 'Account Balance', 'Duration of Credit (month)',\n",
      "       'Payment Status of Previous Credit', 'Purpose', 'Credit Amount',\n",
      "       'Value Savings/Stocks', 'Length of current employment',\n",
      "       'Instalment per cent', 'Sex & Marital Status', 'Guarantors',\n",
      "       'Duration in Current address', 'Most valuable available asset',\n",
      "       'Age (years)', 'Concurrent Credits', 'Type of apartment',\n",
      "       'No of Credits at this Bank', 'Occupation', 'No of dependents',\n",
      "       'Telephone', 'Foreign Worker'],\n",
      "      dtype='object')\n"
     ]
    }
   ],
   "source": [
    "Data = pd.read_csv(r\"C:\\Users\\Pardhu CooL\\koushik_gadi_lolli\\german_credit.csv\")\n",
    "print(Data.columns)\n",
    "#"
   ]
  },
  {
   "cell_type": "code",
   "execution_count": 5,
   "metadata": {},
   "outputs": [
    {
     "name": "stdout",
     "output_type": "stream",
     "text": [
      "Number of observations:  1000\n"
     ]
    },
    {
     "data": {
      "text/html": [
       "<div>\n",
       "<style scoped>\n",
       "    .dataframe tbody tr th:only-of-type {\n",
       "        vertical-align: middle;\n",
       "    }\n",
       "\n",
       "    .dataframe tbody tr th {\n",
       "        vertical-align: top;\n",
       "    }\n",
       "\n",
       "    .dataframe thead th {\n",
       "        text-align: right;\n",
       "    }\n",
       "</style>\n",
       "<table border=\"1\" class=\"dataframe\">\n",
       "  <thead>\n",
       "    <tr style=\"text-align: right;\">\n",
       "      <th></th>\n",
       "      <th>Creditability</th>\n",
       "      <th>Account Balance</th>\n",
       "      <th>Duration of Credit (month)</th>\n",
       "      <th>Payment Status of Previous Credit</th>\n",
       "      <th>Purpose</th>\n",
       "      <th>Credit Amount</th>\n",
       "      <th>Value Savings/Stocks</th>\n",
       "      <th>Length of current employment</th>\n",
       "      <th>Instalment per cent</th>\n",
       "      <th>Sex &amp; Marital Status</th>\n",
       "      <th>...</th>\n",
       "      <th>Duration in Current address</th>\n",
       "      <th>Most valuable available asset</th>\n",
       "      <th>Age (years)</th>\n",
       "      <th>Concurrent Credits</th>\n",
       "      <th>Type of apartment</th>\n",
       "      <th>No of Credits at this Bank</th>\n",
       "      <th>Occupation</th>\n",
       "      <th>No of dependents</th>\n",
       "      <th>Telephone</th>\n",
       "      <th>Foreign Worker</th>\n",
       "    </tr>\n",
       "  </thead>\n",
       "  <tbody>\n",
       "    <tr>\n",
       "      <td>0</td>\n",
       "      <td>1</td>\n",
       "      <td>1</td>\n",
       "      <td>18</td>\n",
       "      <td>4</td>\n",
       "      <td>2</td>\n",
       "      <td>1049</td>\n",
       "      <td>1</td>\n",
       "      <td>2</td>\n",
       "      <td>4</td>\n",
       "      <td>2</td>\n",
       "      <td>...</td>\n",
       "      <td>4</td>\n",
       "      <td>2</td>\n",
       "      <td>21</td>\n",
       "      <td>3</td>\n",
       "      <td>1</td>\n",
       "      <td>1</td>\n",
       "      <td>3</td>\n",
       "      <td>1</td>\n",
       "      <td>1</td>\n",
       "      <td>1</td>\n",
       "    </tr>\n",
       "    <tr>\n",
       "      <td>1</td>\n",
       "      <td>1</td>\n",
       "      <td>1</td>\n",
       "      <td>9</td>\n",
       "      <td>4</td>\n",
       "      <td>0</td>\n",
       "      <td>2799</td>\n",
       "      <td>1</td>\n",
       "      <td>3</td>\n",
       "      <td>2</td>\n",
       "      <td>3</td>\n",
       "      <td>...</td>\n",
       "      <td>2</td>\n",
       "      <td>1</td>\n",
       "      <td>36</td>\n",
       "      <td>3</td>\n",
       "      <td>1</td>\n",
       "      <td>2</td>\n",
       "      <td>3</td>\n",
       "      <td>2</td>\n",
       "      <td>1</td>\n",
       "      <td>1</td>\n",
       "    </tr>\n",
       "    <tr>\n",
       "      <td>2</td>\n",
       "      <td>1</td>\n",
       "      <td>2</td>\n",
       "      <td>12</td>\n",
       "      <td>2</td>\n",
       "      <td>9</td>\n",
       "      <td>841</td>\n",
       "      <td>2</td>\n",
       "      <td>4</td>\n",
       "      <td>2</td>\n",
       "      <td>2</td>\n",
       "      <td>...</td>\n",
       "      <td>4</td>\n",
       "      <td>1</td>\n",
       "      <td>23</td>\n",
       "      <td>3</td>\n",
       "      <td>1</td>\n",
       "      <td>1</td>\n",
       "      <td>2</td>\n",
       "      <td>1</td>\n",
       "      <td>1</td>\n",
       "      <td>1</td>\n",
       "    </tr>\n",
       "    <tr>\n",
       "      <td>3</td>\n",
       "      <td>1</td>\n",
       "      <td>1</td>\n",
       "      <td>12</td>\n",
       "      <td>4</td>\n",
       "      <td>0</td>\n",
       "      <td>2122</td>\n",
       "      <td>1</td>\n",
       "      <td>3</td>\n",
       "      <td>3</td>\n",
       "      <td>3</td>\n",
       "      <td>...</td>\n",
       "      <td>2</td>\n",
       "      <td>1</td>\n",
       "      <td>39</td>\n",
       "      <td>3</td>\n",
       "      <td>1</td>\n",
       "      <td>2</td>\n",
       "      <td>2</td>\n",
       "      <td>2</td>\n",
       "      <td>1</td>\n",
       "      <td>2</td>\n",
       "    </tr>\n",
       "    <tr>\n",
       "      <td>4</td>\n",
       "      <td>1</td>\n",
       "      <td>1</td>\n",
       "      <td>12</td>\n",
       "      <td>4</td>\n",
       "      <td>0</td>\n",
       "      <td>2171</td>\n",
       "      <td>1</td>\n",
       "      <td>3</td>\n",
       "      <td>4</td>\n",
       "      <td>3</td>\n",
       "      <td>...</td>\n",
       "      <td>4</td>\n",
       "      <td>2</td>\n",
       "      <td>38</td>\n",
       "      <td>1</td>\n",
       "      <td>2</td>\n",
       "      <td>2</td>\n",
       "      <td>2</td>\n",
       "      <td>1</td>\n",
       "      <td>1</td>\n",
       "      <td>2</td>\n",
       "    </tr>\n",
       "    <tr>\n",
       "      <td>5</td>\n",
       "      <td>1</td>\n",
       "      <td>1</td>\n",
       "      <td>10</td>\n",
       "      <td>4</td>\n",
       "      <td>0</td>\n",
       "      <td>2241</td>\n",
       "      <td>1</td>\n",
       "      <td>2</td>\n",
       "      <td>1</td>\n",
       "      <td>3</td>\n",
       "      <td>...</td>\n",
       "      <td>3</td>\n",
       "      <td>1</td>\n",
       "      <td>48</td>\n",
       "      <td>3</td>\n",
       "      <td>1</td>\n",
       "      <td>2</td>\n",
       "      <td>2</td>\n",
       "      <td>2</td>\n",
       "      <td>1</td>\n",
       "      <td>2</td>\n",
       "    </tr>\n",
       "    <tr>\n",
       "      <td>6</td>\n",
       "      <td>1</td>\n",
       "      <td>1</td>\n",
       "      <td>8</td>\n",
       "      <td>4</td>\n",
       "      <td>0</td>\n",
       "      <td>3398</td>\n",
       "      <td>1</td>\n",
       "      <td>4</td>\n",
       "      <td>1</td>\n",
       "      <td>3</td>\n",
       "      <td>...</td>\n",
       "      <td>4</td>\n",
       "      <td>1</td>\n",
       "      <td>39</td>\n",
       "      <td>3</td>\n",
       "      <td>2</td>\n",
       "      <td>2</td>\n",
       "      <td>2</td>\n",
       "      <td>1</td>\n",
       "      <td>1</td>\n",
       "      <td>2</td>\n",
       "    </tr>\n",
       "    <tr>\n",
       "      <td>7</td>\n",
       "      <td>1</td>\n",
       "      <td>1</td>\n",
       "      <td>6</td>\n",
       "      <td>4</td>\n",
       "      <td>0</td>\n",
       "      <td>1361</td>\n",
       "      <td>1</td>\n",
       "      <td>2</td>\n",
       "      <td>2</td>\n",
       "      <td>3</td>\n",
       "      <td>...</td>\n",
       "      <td>4</td>\n",
       "      <td>1</td>\n",
       "      <td>40</td>\n",
       "      <td>3</td>\n",
       "      <td>2</td>\n",
       "      <td>1</td>\n",
       "      <td>2</td>\n",
       "      <td>2</td>\n",
       "      <td>1</td>\n",
       "      <td>2</td>\n",
       "    </tr>\n",
       "    <tr>\n",
       "      <td>8</td>\n",
       "      <td>1</td>\n",
       "      <td>4</td>\n",
       "      <td>18</td>\n",
       "      <td>4</td>\n",
       "      <td>3</td>\n",
       "      <td>1098</td>\n",
       "      <td>1</td>\n",
       "      <td>1</td>\n",
       "      <td>4</td>\n",
       "      <td>2</td>\n",
       "      <td>...</td>\n",
       "      <td>4</td>\n",
       "      <td>3</td>\n",
       "      <td>65</td>\n",
       "      <td>3</td>\n",
       "      <td>2</td>\n",
       "      <td>2</td>\n",
       "      <td>1</td>\n",
       "      <td>1</td>\n",
       "      <td>1</td>\n",
       "      <td>1</td>\n",
       "    </tr>\n",
       "    <tr>\n",
       "      <td>9</td>\n",
       "      <td>1</td>\n",
       "      <td>2</td>\n",
       "      <td>24</td>\n",
       "      <td>2</td>\n",
       "      <td>3</td>\n",
       "      <td>3758</td>\n",
       "      <td>3</td>\n",
       "      <td>1</td>\n",
       "      <td>1</td>\n",
       "      <td>2</td>\n",
       "      <td>...</td>\n",
       "      <td>4</td>\n",
       "      <td>4</td>\n",
       "      <td>23</td>\n",
       "      <td>3</td>\n",
       "      <td>1</td>\n",
       "      <td>1</td>\n",
       "      <td>1</td>\n",
       "      <td>1</td>\n",
       "      <td>1</td>\n",
       "      <td>1</td>\n",
       "    </tr>\n",
       "  </tbody>\n",
       "</table>\n",
       "<p>10 rows × 21 columns</p>\n",
       "</div>"
      ],
      "text/plain": [
       "   Creditability  Account Balance  Duration of Credit (month)  \\\n",
       "0              1                1                          18   \n",
       "1              1                1                           9   \n",
       "2              1                2                          12   \n",
       "3              1                1                          12   \n",
       "4              1                1                          12   \n",
       "5              1                1                          10   \n",
       "6              1                1                           8   \n",
       "7              1                1                           6   \n",
       "8              1                4                          18   \n",
       "9              1                2                          24   \n",
       "\n",
       "   Payment Status of Previous Credit  Purpose  Credit Amount  \\\n",
       "0                                  4        2           1049   \n",
       "1                                  4        0           2799   \n",
       "2                                  2        9            841   \n",
       "3                                  4        0           2122   \n",
       "4                                  4        0           2171   \n",
       "5                                  4        0           2241   \n",
       "6                                  4        0           3398   \n",
       "7                                  4        0           1361   \n",
       "8                                  4        3           1098   \n",
       "9                                  2        3           3758   \n",
       "\n",
       "   Value Savings/Stocks  Length of current employment  Instalment per cent  \\\n",
       "0                     1                             2                    4   \n",
       "1                     1                             3                    2   \n",
       "2                     2                             4                    2   \n",
       "3                     1                             3                    3   \n",
       "4                     1                             3                    4   \n",
       "5                     1                             2                    1   \n",
       "6                     1                             4                    1   \n",
       "7                     1                             2                    2   \n",
       "8                     1                             1                    4   \n",
       "9                     3                             1                    1   \n",
       "\n",
       "   Sex & Marital Status  ...  Duration in Current address  \\\n",
       "0                     2  ...                            4   \n",
       "1                     3  ...                            2   \n",
       "2                     2  ...                            4   \n",
       "3                     3  ...                            2   \n",
       "4                     3  ...                            4   \n",
       "5                     3  ...                            3   \n",
       "6                     3  ...                            4   \n",
       "7                     3  ...                            4   \n",
       "8                     2  ...                            4   \n",
       "9                     2  ...                            4   \n",
       "\n",
       "   Most valuable available asset  Age (years)  Concurrent Credits  \\\n",
       "0                              2           21                   3   \n",
       "1                              1           36                   3   \n",
       "2                              1           23                   3   \n",
       "3                              1           39                   3   \n",
       "4                              2           38                   1   \n",
       "5                              1           48                   3   \n",
       "6                              1           39                   3   \n",
       "7                              1           40                   3   \n",
       "8                              3           65                   3   \n",
       "9                              4           23                   3   \n",
       "\n",
       "   Type of apartment  No of Credits at this Bank  Occupation  \\\n",
       "0                  1                           1           3   \n",
       "1                  1                           2           3   \n",
       "2                  1                           1           2   \n",
       "3                  1                           2           2   \n",
       "4                  2                           2           2   \n",
       "5                  1                           2           2   \n",
       "6                  2                           2           2   \n",
       "7                  2                           1           2   \n",
       "8                  2                           2           1   \n",
       "9                  1                           1           1   \n",
       "\n",
       "   No of dependents  Telephone  Foreign Worker  \n",
       "0                 1          1               1  \n",
       "1                 2          1               1  \n",
       "2                 1          1               1  \n",
       "3                 2          1               2  \n",
       "4                 1          1               2  \n",
       "5                 2          1               2  \n",
       "6                 1          1               2  \n",
       "7                 2          1               2  \n",
       "8                 1          1               1  \n",
       "9                 1          1               1  \n",
       "\n",
       "[10 rows x 21 columns]"
      ]
     },
     "execution_count": 5,
     "metadata": {},
     "output_type": "execute_result"
    }
   ],
   "source": [
    "\"\"\"Account Balance: No account (1), None (No balance) (2), Some Balance (3)\n",
    "Payment Status: Some Problems (1), Paid Up (2), No Problems (in this bank) (3)\n",
    "Savings/Stock Value: None, Below 100 DM, [100, 1000] DM, Above 1000 DM\n",
    "Employment Length: Below 1 year (including unemployed), [1, 4), [4, 7), Above 7\n",
    "Sex/Marital Status: Male Divorced/Single, Male Married/Widowed, Female\n",
    "No of Credits at this bank: 1, More than 1\n",
    "Guarantor: None, Yes\n",
    "Concurrent Credits: Other Banks or Dept Stores, None\n",
    "ForeignWorker variable may be dropped from the study\n",
    "Purpose of Credit: New car, Used car, Home Related, Other\"\"\"\n",
    "\n",
    "print(\"Number of observations: \", len(Data))\n",
    "Data.head(10)\n"
   ]
  },
  {
   "cell_type": "code",
   "execution_count": 6,
   "metadata": {},
   "outputs": [
    {
     "name": "stdout",
     "output_type": "stream",
     "text": [
      "Creditability :  0\n",
      "Account Balance :  0\n",
      "Duration of Credit (month) :  0\n",
      "Payment Status of Previous Credit :  0\n",
      "Purpose :  0\n",
      "Credit Amount :  0\n",
      "Value Savings/Stocks :  0\n",
      "Length of current employment :  0\n",
      "Instalment per cent :  0\n",
      "Sex & Marital Status :  0\n",
      "Guarantors :  0\n",
      "Duration in Current address :  0\n",
      "Most valuable available asset :  0\n",
      "Age (years) :  0\n",
      "Concurrent Credits :  0\n",
      "Type of apartment :  0\n",
      "No of Credits at this Bank :  0\n",
      "Occupation :  0\n",
      "No of dependents :  0\n",
      "Telephone :  0\n",
      "Foreign Worker :  0\n"
     ]
    }
   ],
   "source": [
    "### Checking for missing values \n",
    "for col in Data:\n",
    "    print(col, \": \", sum(Data[col].isnull()))\n",
    "\n",
    "    "
   ]
  },
  {
   "cell_type": "code",
   "execution_count": 7,
   "metadata": {},
   "outputs": [
    {
     "name": "stdout",
     "output_type": "stream",
     "text": [
      "Creditability : [1 0]\n",
      "Account Balance : [1 2 4 3]\n",
      "Duration of Credit (month) : [18  9 12 10  8  6 24 11 30 48 36 15 42 21 27 33 28  4 47 14 39 60  5 22\n",
      " 54 13 16  7 20 26 45 72 40]\n",
      "Payment Status of Previous Credit : [4 2 3 0 1]\n",
      "Purpose : [ 2  0  9  3  1 10  5  4  6  8]\n",
      "Credit Amount : [ 1049  2799   841  2122  2171  2241  3398  1361  1098  3758  3905  6187\n",
      "  1957  7582  1936  2647  3939  3213  2337  7228  3676  3124  2384  1424\n",
      "  4716  4771   652  1154  3556  4796  3017  3535  6614  1376  1721   860\n",
      "  1495  1934  3378  3868   996  1755  1028  2825  1239  1216  1258  1864\n",
      "  1474  1382   640  3919  1224  2331  6313   385  1655  1053  3160  3079\n",
      "  1163  2679  3578 10875  1344  1237  3077  2284  1567  2032  2745  1867\n",
      "  2299   929  3399  2030  3275  1940  1602  1979  2022  3342  5866  2360\n",
      "  1520  3651  2346  4454   666  1965  1995  2991  4221  1364  6361  4526\n",
      "  3573  4455  2136  5954  3777   806  4712  7432  1851  1393  1412  1473\n",
      "  1533  2012  3959   428  2366   763  3976  6260  1919  2603   936  3062\n",
      "  4795  5842  2063  1459  1213  5103   874  2978  1820  2872  1925  2515\n",
      "  2116  1453  1543  1318  2325   932  3148  3835  3832  5084  2406  2394\n",
      "  2476  2964  1262  1542  1743   409  8858  3512  1158  2684  1498  6416\n",
      "  3617  1291  1275  3972  3343   392  2134  5771  2788  5848  1228  1297\n",
      "  1552  1963  3235  4139  1804  1950 12749  1236  1055  8072  2831  1449\n",
      "  5742  2390  3430  2273  2923  1901  3711  8487  2255  7253  6761  1817\n",
      "  2141  3609  2333  7824  1445  7721  3763  4439  1107  1444 12169  2753\n",
      "  1494  2828  2483  1299  1549  3949  2901   709 10722  1287  3656  4679\n",
      "  8613  2659  1516  4380   802  1572  3566  1278   426  8588  3857   685\n",
      "  1603   601  2569  1316 10366  1568   629  1750  3488  1800  4151  2631\n",
      "  5248  2899  6204   804  3595  5711  2687  3643  2146  2315  3448  2708\n",
      "  1313  1493  2675  2118   909  1569  7678   660  2835  2670  3447  3568\n",
      "  3652  3660  1126   683  2251  4675  2353  3357   672   338  2697  2507\n",
      "  1478  3565  2221  1898   960  8133  2301   983  2320   339  5152  3749\n",
      "  3074   745  1469  1374   783  2606  9436   930  2751   250  1201   662\n",
      "  1300  1559  3016  1360  1204  1597  2073  2142  2132  1546  1418  1343\n",
      "  2662  6070  1927  2404  1554  1283   717  1747  1288  1038  2848  1413\n",
      "  3632  3229  3577   682  1924   727   781  2121   701  2069  1525  7629\n",
      "  3499  1346 10477  2924  1231  1961  5045  1255  1858  1221  1388  2279\n",
      "  2759  1410  1403  3021  6568  2578  7758   343  1591  3416  1108  5965\n",
      "  1514  6742  3650  3599 13756   276  4041   458   918  7393  1225  2812\n",
      "  3029  1480  1047  1471  5511  1206  6403   707  1503  6078  2528  1037\n",
      "  1352  3181  4594  5381  4657  1391  1913  7166  1409   976  2375   522\n",
      "  2743  5804  1169   776  1322  1175  2133  1829 11760  1501  1200  3195\n",
      "  4530  1555  2326  1887  1264   846  1532   935  2442  3590  2288  5117\n",
      " 14179  1386   618  1574   700   886  4686   790   766  2212  7308  5743\n",
      "  3973  7418  2629  1941  2445  6468  7374  3812  4006  7472  2028  5324\n",
      "  2323  1984   999  7409  2186  4473   937  3422  3105  2748  3872  5190\n",
      "  3001  3863  5801  1592  1185  3780  3612  1076  3527  2051  3331  3104\n",
      "  2611  1311  2108  4042   926  1680  1249  2463  1595  2058  7814  1740\n",
      "  1240  6842  5150  1203  2080  1538  3878  3186  2896  6967  1819  5943\n",
      "  7127  3349 10974   518  1860  9566  2930  1505  2238  2197  1881  1880\n",
      "  2389  1967  3380  1455   730  3244  1670  3979  1922  1295  1544   907\n",
      "  1715  1347  1007  1402  2002  2096  1101   894  1577  2764  8358  5433\n",
      "  3485  3850  7408  1377  4272  1553  9857   362  1935 10222  1330  9055\n",
      "  7966  3496  6948 12204  3446   684  4281  7174  2359  3621   741  7865\n",
      "  2910  5302  3620  3509  1657  1164  6229  1193  4583  5371   708   571\n",
      "  2522  5179  8229  1289  2712   975  1050   609  4788  3069   836  2577\n",
      "  1620  1845  6579  1893 10623  2249  3108   958  9277  6314  1526  6615\n",
      "  1872  2859  1582  1238  1433  7882  4169  3249  3149  2246  1797  2957\n",
      "  2348  6289  6419  6143 15857  2223  7238  2503  2622  4351   368   754\n",
      "  2424  6681  2427   753  2576   590  1414  1103   585  1068   713  1092\n",
      "  2329   882   866  2415  2101  1301  1113   760   625  1323  1138  1795\n",
      "  2728   484  1048  1155  7057  1537  2214  1585  1521  3990  3049  1282\n",
      " 10144  1168   454  3594  1768 15653  2247  4576  8335  5800  8471  3622\n",
      "  2181  7685  6110  3757  3394  6304  1244  3518  2613  7476  4591  5595\n",
      "  6224  1905  2993  8947  4020  2779  2782  1884 11054  9157  9283  6527\n",
      "  3368  2511  5493  1338  1082  1149  1308  6148  1736  3059  2996  7596\n",
      "  4811  1766  2760  5507  1199  2892  2862   654  1136  4113 14555   950\n",
      "  2150  2820  3060  2600  5003  6288  2538  4933  1530  1437  1823  1422\n",
      "  1217  9271  2145  1842  4297  3384  1245  4623  8386  1024 14318   433\n",
      "  2149  2397   931  1512  4241  4736  1778  2327  6872   795  1908  1953\n",
      "  2864  2319   915   947  1381  1285  1371  1042   900  1207  2278  6836\n",
      "  3345  1198 15672  7297  1943  3190  5129  1808   759  1980 10961  6887\n",
      "  1938  1835  1659  1209  3844  4843   639  5951  3804  4463  7980  4210\n",
      "  4611 11560  4165  4057  6458  1977  1928  1123 11328 11938  2520 14782\n",
      "  2671 12612  3031   626  3931  2302  3965  3914  4308  1534  2775  5998\n",
      "  1271  9398   951  1355  3051  7855  9572  1837  4249  5234  6758  1366\n",
      "  1358  2473  1337  7763  6560  3123  8065  2439  9034 14027  9629  1484\n",
      "  1131  2064 12976  2580  2570  3915  1309  4817  2579  2225  4153  3114\n",
      "  2124  1333  7119  4870   691  4370  2746  4110  2462  2969  4605  6331\n",
      "  3552   697  1442  5293  3414  2039  3161   902 10297 14421  1056  1274\n",
      "  1223  1372  2625  2235   959   884  1246  8086 10127   888   719 12389\n",
      "  6850  2210  7485   797  4746   939  1188 11590  1190  2767  3441  4280\n",
      "  3092  1331 15945  3234  9960  8648  1345  1647  4844  8318  2100 11816\n",
      "   448 11998 18424 14896  2762  3386  2169  5096  1882  6999  2292  8978\n",
      "   674  2718   750 12579  7511  3966  6199  1987  2303 12680  6350]\n",
      "Value Savings/Stocks : [1 2 3 5 4]\n",
      "Length of current employment : [2 3 4 1 5]\n",
      "Instalment per cent : [4 2 3 1]\n",
      "Sex & Marital Status : [2 3 4 1]\n",
      "Guarantors : [1 3 2]\n",
      "Duration in Current address : [4 2 3 1]\n",
      "Most valuable available asset : [2 1 3 4]\n",
      "Age (years) : [21 36 23 39 38 48 40 65 24 31 44 25 37 49 33 26 51 29 56 47 34 28 41 58\n",
      " 61 30 63 27 45 43 52 22 60 32 35 42 59 54 64 46 74 50 20 55 53 19 57 66\n",
      " 68 70 67 75 62]\n",
      "Concurrent Credits : [3 1 2]\n",
      "Type of apartment : [1 2 3]\n",
      "No of Credits at this Bank : [1 2 3 4]\n",
      "Occupation : [3 2 1 4]\n",
      "No of dependents : [1 2]\n",
      "Telephone : [1 2]\n",
      "Foreign Worker : [1 2]\n"
     ]
    }
   ],
   "source": [
    "### Unique values for each column\n",
    "for col in Data:\n",
    "    print(col, \":\", Data[col].unique())\n",
    "    "
   ]
  },
  {
   "cell_type": "code",
   "execution_count": 9,
   "metadata": {},
   "outputs": [
    {
     "name": "stdout",
     "output_type": "stream",
     "text": [
      "Creditability numbers: \n",
      "1    700\n",
      "0    300\n",
      "Name: Creditability, dtype: int64\n"
     ]
    }
   ],
   "source": [
    "print(\"Creditability numbers: \")\n",
    "print(Data[\"Creditability\"].value_counts())"
   ]
  },
  {
   "cell_type": "code",
   "execution_count": 10,
   "metadata": {},
   "outputs": [
    {
     "data": {
      "text/html": [
       "<div>\n",
       "<style scoped>\n",
       "    .dataframe tbody tr th:only-of-type {\n",
       "        vertical-align: middle;\n",
       "    }\n",
       "\n",
       "    .dataframe tbody tr th {\n",
       "        vertical-align: top;\n",
       "    }\n",
       "\n",
       "    .dataframe thead th {\n",
       "        text-align: right;\n",
       "    }\n",
       "</style>\n",
       "<table border=\"1\" class=\"dataframe\">\n",
       "  <thead>\n",
       "    <tr style=\"text-align: right;\">\n",
       "      <th></th>\n",
       "      <th>Creditability</th>\n",
       "      <th>Account Balance</th>\n",
       "      <th>Duration of Credit (month)</th>\n",
       "      <th>Payment Status of Previous Credit</th>\n",
       "      <th>Purpose</th>\n",
       "      <th>Credit Amount</th>\n",
       "      <th>Value Savings/Stocks</th>\n",
       "      <th>Length of current employment</th>\n",
       "      <th>Instalment per cent</th>\n",
       "      <th>Sex &amp; Marital Status</th>\n",
       "      <th>...</th>\n",
       "      <th>Duration in Current address</th>\n",
       "      <th>Most valuable available asset</th>\n",
       "      <th>Age (years)</th>\n",
       "      <th>Concurrent Credits</th>\n",
       "      <th>Type of apartment</th>\n",
       "      <th>No of Credits at this Bank</th>\n",
       "      <th>Occupation</th>\n",
       "      <th>No of dependents</th>\n",
       "      <th>Telephone</th>\n",
       "      <th>Foreign Worker</th>\n",
       "    </tr>\n",
       "  </thead>\n",
       "  <tbody>\n",
       "    <tr>\n",
       "      <td>645</td>\n",
       "      <td>1</td>\n",
       "      <td>1</td>\n",
       "      <td>36</td>\n",
       "      <td>2</td>\n",
       "      <td>10</td>\n",
       "      <td>15857</td>\n",
       "      <td>1</td>\n",
       "      <td>1</td>\n",
       "      <td>2</td>\n",
       "      <td>1</td>\n",
       "      <td>...</td>\n",
       "      <td>3</td>\n",
       "      <td>3</td>\n",
       "      <td>43</td>\n",
       "      <td>3</td>\n",
       "      <td>2</td>\n",
       "      <td>1</td>\n",
       "      <td>4</td>\n",
       "      <td>1</td>\n",
       "      <td>1</td>\n",
       "      <td>1</td>\n",
       "    </tr>\n",
       "    <tr>\n",
       "      <td>695</td>\n",
       "      <td>1</td>\n",
       "      <td>4</td>\n",
       "      <td>60</td>\n",
       "      <td>3</td>\n",
       "      <td>3</td>\n",
       "      <td>15653</td>\n",
       "      <td>1</td>\n",
       "      <td>4</td>\n",
       "      <td>2</td>\n",
       "      <td>3</td>\n",
       "      <td>...</td>\n",
       "      <td>4</td>\n",
       "      <td>3</td>\n",
       "      <td>21</td>\n",
       "      <td>3</td>\n",
       "      <td>2</td>\n",
       "      <td>2</td>\n",
       "      <td>3</td>\n",
       "      <td>1</td>\n",
       "      <td>2</td>\n",
       "      <td>1</td>\n",
       "    </tr>\n",
       "    <tr>\n",
       "      <td>810</td>\n",
       "      <td>0</td>\n",
       "      <td>2</td>\n",
       "      <td>48</td>\n",
       "      <td>2</td>\n",
       "      <td>9</td>\n",
       "      <td>15672</td>\n",
       "      <td>1</td>\n",
       "      <td>3</td>\n",
       "      <td>2</td>\n",
       "      <td>3</td>\n",
       "      <td>...</td>\n",
       "      <td>2</td>\n",
       "      <td>3</td>\n",
       "      <td>23</td>\n",
       "      <td>3</td>\n",
       "      <td>2</td>\n",
       "      <td>1</td>\n",
       "      <td>3</td>\n",
       "      <td>1</td>\n",
       "      <td>2</td>\n",
       "      <td>1</td>\n",
       "    </tr>\n",
       "    <tr>\n",
       "      <td>962</td>\n",
       "      <td>0</td>\n",
       "      <td>2</td>\n",
       "      <td>54</td>\n",
       "      <td>0</td>\n",
       "      <td>9</td>\n",
       "      <td>15945</td>\n",
       "      <td>1</td>\n",
       "      <td>2</td>\n",
       "      <td>3</td>\n",
       "      <td>3</td>\n",
       "      <td>...</td>\n",
       "      <td>4</td>\n",
       "      <td>4</td>\n",
       "      <td>58</td>\n",
       "      <td>3</td>\n",
       "      <td>1</td>\n",
       "      <td>1</td>\n",
       "      <td>3</td>\n",
       "      <td>1</td>\n",
       "      <td>2</td>\n",
       "      <td>1</td>\n",
       "    </tr>\n",
       "    <tr>\n",
       "      <td>976</td>\n",
       "      <td>0</td>\n",
       "      <td>2</td>\n",
       "      <td>48</td>\n",
       "      <td>0</td>\n",
       "      <td>10</td>\n",
       "      <td>18424</td>\n",
       "      <td>1</td>\n",
       "      <td>3</td>\n",
       "      <td>1</td>\n",
       "      <td>2</td>\n",
       "      <td>...</td>\n",
       "      <td>2</td>\n",
       "      <td>2</td>\n",
       "      <td>32</td>\n",
       "      <td>1</td>\n",
       "      <td>2</td>\n",
       "      <td>1</td>\n",
       "      <td>4</td>\n",
       "      <td>1</td>\n",
       "      <td>2</td>\n",
       "      <td>2</td>\n",
       "    </tr>\n",
       "  </tbody>\n",
       "</table>\n",
       "<p>5 rows × 21 columns</p>\n",
       "</div>"
      ],
      "text/plain": [
       "     Creditability  Account Balance  Duration of Credit (month)  \\\n",
       "645              1                1                          36   \n",
       "695              1                4                          60   \n",
       "810              0                2                          48   \n",
       "962              0                2                          54   \n",
       "976              0                2                          48   \n",
       "\n",
       "     Payment Status of Previous Credit  Purpose  Credit Amount  \\\n",
       "645                                  2       10          15857   \n",
       "695                                  3        3          15653   \n",
       "810                                  2        9          15672   \n",
       "962                                  0        9          15945   \n",
       "976                                  0       10          18424   \n",
       "\n",
       "     Value Savings/Stocks  Length of current employment  Instalment per cent  \\\n",
       "645                     1                             1                    2   \n",
       "695                     1                             4                    2   \n",
       "810                     1                             3                    2   \n",
       "962                     1                             2                    3   \n",
       "976                     1                             3                    1   \n",
       "\n",
       "     Sex & Marital Status  ...  Duration in Current address  \\\n",
       "645                     1  ...                            3   \n",
       "695                     3  ...                            4   \n",
       "810                     3  ...                            2   \n",
       "962                     3  ...                            4   \n",
       "976                     2  ...                            2   \n",
       "\n",
       "     Most valuable available asset  Age (years)  Concurrent Credits  \\\n",
       "645                              3           43                   3   \n",
       "695                              3           21                   3   \n",
       "810                              3           23                   3   \n",
       "962                              4           58                   3   \n",
       "976                              2           32                   1   \n",
       "\n",
       "     Type of apartment  No of Credits at this Bank  Occupation  \\\n",
       "645                  2                           1           4   \n",
       "695                  2                           2           3   \n",
       "810                  2                           1           3   \n",
       "962                  1                           1           3   \n",
       "976                  2                           1           4   \n",
       "\n",
       "     No of dependents  Telephone  Foreign Worker  \n",
       "645                 1          1               1  \n",
       "695                 1          2               1  \n",
       "810                 1          2               1  \n",
       "962                 1          2               1  \n",
       "976                 1          2               2  \n",
       "\n",
       "[5 rows x 21 columns]"
      ]
     },
     "execution_count": 10,
     "metadata": {},
     "output_type": "execute_result"
    }
   ],
   "source": [
    "Data[Data[\"Credit Amount\"] >= 15000]\n"
   ]
  },
  {
   "cell_type": "code",
   "execution_count": 11,
   "metadata": {},
   "outputs": [
    {
     "data": {
      "text/html": [
       "<div>\n",
       "<style scoped>\n",
       "    .dataframe tbody tr th:only-of-type {\n",
       "        vertical-align: middle;\n",
       "    }\n",
       "\n",
       "    .dataframe tbody tr th {\n",
       "        vertical-align: top;\n",
       "    }\n",
       "\n",
       "    .dataframe thead th {\n",
       "        text-align: right;\n",
       "    }\n",
       "</style>\n",
       "<table border=\"1\" class=\"dataframe\">\n",
       "  <thead>\n",
       "    <tr style=\"text-align: right;\">\n",
       "      <th></th>\n",
       "      <th>Creditability</th>\n",
       "      <th>Account Balance</th>\n",
       "      <th>Duration of Credit (month)</th>\n",
       "      <th>Payment Status of Previous Credit</th>\n",
       "      <th>Purpose</th>\n",
       "      <th>Credit Amount</th>\n",
       "      <th>Value Savings/Stocks</th>\n",
       "      <th>Length of current employment</th>\n",
       "      <th>Instalment per cent</th>\n",
       "      <th>Sex &amp; Marital Status</th>\n",
       "      <th>...</th>\n",
       "      <th>Duration in Current address</th>\n",
       "      <th>Most valuable available asset</th>\n",
       "      <th>Age (years)</th>\n",
       "      <th>Concurrent Credits</th>\n",
       "      <th>Type of apartment</th>\n",
       "      <th>No of Credits at this Bank</th>\n",
       "      <th>Occupation</th>\n",
       "      <th>No of dependents</th>\n",
       "      <th>Telephone</th>\n",
       "      <th>Foreign Worker</th>\n",
       "    </tr>\n",
       "  </thead>\n",
       "  <tbody>\n",
       "    <tr>\n",
       "      <td>298</td>\n",
       "      <td>1</td>\n",
       "      <td>2</td>\n",
       "      <td>12</td>\n",
       "      <td>2</td>\n",
       "      <td>2</td>\n",
       "      <td>983</td>\n",
       "      <td>4</td>\n",
       "      <td>2</td>\n",
       "      <td>1</td>\n",
       "      <td>2</td>\n",
       "      <td>...</td>\n",
       "      <td>4</td>\n",
       "      <td>1</td>\n",
       "      <td>19</td>\n",
       "      <td>3</td>\n",
       "      <td>1</td>\n",
       "      <td>1</td>\n",
       "      <td>2</td>\n",
       "      <td>1</td>\n",
       "      <td>1</td>\n",
       "      <td>1</td>\n",
       "    </tr>\n",
       "    <tr>\n",
       "      <td>819</td>\n",
       "      <td>0</td>\n",
       "      <td>4</td>\n",
       "      <td>9</td>\n",
       "      <td>2</td>\n",
       "      <td>2</td>\n",
       "      <td>1980</td>\n",
       "      <td>1</td>\n",
       "      <td>2</td>\n",
       "      <td>2</td>\n",
       "      <td>2</td>\n",
       "      <td>...</td>\n",
       "      <td>2</td>\n",
       "      <td>3</td>\n",
       "      <td>19</td>\n",
       "      <td>3</td>\n",
       "      <td>1</td>\n",
       "      <td>2</td>\n",
       "      <td>3</td>\n",
       "      <td>1</td>\n",
       "      <td>1</td>\n",
       "      <td>1</td>\n",
       "    </tr>\n",
       "  </tbody>\n",
       "</table>\n",
       "<p>2 rows × 21 columns</p>\n",
       "</div>"
      ],
      "text/plain": [
       "     Creditability  Account Balance  Duration of Credit (month)  \\\n",
       "298              1                2                          12   \n",
       "819              0                4                           9   \n",
       "\n",
       "     Payment Status of Previous Credit  Purpose  Credit Amount  \\\n",
       "298                                  2        2            983   \n",
       "819                                  2        2           1980   \n",
       "\n",
       "     Value Savings/Stocks  Length of current employment  Instalment per cent  \\\n",
       "298                     4                             2                    1   \n",
       "819                     1                             2                    2   \n",
       "\n",
       "     Sex & Marital Status  ...  Duration in Current address  \\\n",
       "298                     2  ...                            4   \n",
       "819                     2  ...                            2   \n",
       "\n",
       "     Most valuable available asset  Age (years)  Concurrent Credits  \\\n",
       "298                              1           19                   3   \n",
       "819                              3           19                   3   \n",
       "\n",
       "     Type of apartment  No of Credits at this Bank  Occupation  \\\n",
       "298                  1                           1           2   \n",
       "819                  1                           2           3   \n",
       "\n",
       "     No of dependents  Telephone  Foreign Worker  \n",
       "298                 1          1               1  \n",
       "819                 1          1               1  \n",
       "\n",
       "[2 rows x 21 columns]"
      ]
     },
     "execution_count": 11,
     "metadata": {},
     "output_type": "execute_result"
    }
   ],
   "source": [
    "\n",
    "Data[Data[\"Age (years)\"] < 20]\n",
    "\n"
   ]
  },
  {
   "cell_type": "code",
   "execution_count": 12,
   "metadata": {},
   "outputs": [
    {
     "data": {
      "text/html": [
       "<div>\n",
       "<style scoped>\n",
       "    .dataframe tbody tr th:only-of-type {\n",
       "        vertical-align: middle;\n",
       "    }\n",
       "\n",
       "    .dataframe tbody tr th {\n",
       "        vertical-align: top;\n",
       "    }\n",
       "\n",
       "    .dataframe thead th {\n",
       "        text-align: right;\n",
       "    }\n",
       "</style>\n",
       "<table border=\"1\" class=\"dataframe\">\n",
       "  <thead>\n",
       "    <tr style=\"text-align: right;\">\n",
       "      <th></th>\n",
       "      <th>Creditability</th>\n",
       "      <th>Account Balance</th>\n",
       "      <th>Duration of Credit (month)</th>\n",
       "      <th>Payment Status of Previous Credit</th>\n",
       "      <th>Purpose</th>\n",
       "      <th>Credit Amount</th>\n",
       "      <th>Value Savings/Stocks</th>\n",
       "      <th>Length of current employment</th>\n",
       "      <th>Instalment per cent</th>\n",
       "      <th>Sex &amp; Marital Status</th>\n",
       "      <th>...</th>\n",
       "      <th>Duration in Current address</th>\n",
       "      <th>Most valuable available asset</th>\n",
       "      <th>Age (years)</th>\n",
       "      <th>Concurrent Credits</th>\n",
       "      <th>Type of apartment</th>\n",
       "      <th>No of Credits at this Bank</th>\n",
       "      <th>Occupation</th>\n",
       "      <th>No of dependents</th>\n",
       "      <th>Telephone</th>\n",
       "      <th>Foreign Worker</th>\n",
       "    </tr>\n",
       "  </thead>\n",
       "  <tbody>\n",
       "    <tr>\n",
       "      <td>719</td>\n",
       "      <td>0</td>\n",
       "      <td>2</td>\n",
       "      <td>72</td>\n",
       "      <td>2</td>\n",
       "      <td>3</td>\n",
       "      <td>5595</td>\n",
       "      <td>2</td>\n",
       "      <td>3</td>\n",
       "      <td>2</td>\n",
       "      <td>4</td>\n",
       "      <td>...</td>\n",
       "      <td>2</td>\n",
       "      <td>3</td>\n",
       "      <td>24</td>\n",
       "      <td>3</td>\n",
       "      <td>2</td>\n",
       "      <td>1</td>\n",
       "      <td>3</td>\n",
       "      <td>1</td>\n",
       "      <td>1</td>\n",
       "      <td>1</td>\n",
       "    </tr>\n",
       "  </tbody>\n",
       "</table>\n",
       "<p>1 rows × 21 columns</p>\n",
       "</div>"
      ],
      "text/plain": [
       "     Creditability  Account Balance  Duration of Credit (month)  \\\n",
       "719              0                2                          72   \n",
       "\n",
       "     Payment Status of Previous Credit  Purpose  Credit Amount  \\\n",
       "719                                  2        3           5595   \n",
       "\n",
       "     Value Savings/Stocks  Length of current employment  Instalment per cent  \\\n",
       "719                     2                             3                    2   \n",
       "\n",
       "     Sex & Marital Status  ...  Duration in Current address  \\\n",
       "719                     4  ...                            2   \n",
       "\n",
       "     Most valuable available asset  Age (years)  Concurrent Credits  \\\n",
       "719                              3           24                   3   \n",
       "\n",
       "     Type of apartment  No of Credits at this Bank  Occupation  \\\n",
       "719                  2                           1           3   \n",
       "\n",
       "     No of dependents  Telephone  Foreign Worker  \n",
       "719                 1          1               1  \n",
       "\n",
       "[1 rows x 21 columns]"
      ]
     },
     "execution_count": 12,
     "metadata": {},
     "output_type": "execute_result"
    }
   ],
   "source": [
    "Data[Data[\"Duration of Credit (month)\"] >60]"
   ]
  },
  {
   "cell_type": "code",
   "execution_count": 13,
   "metadata": {},
   "outputs": [
    {
     "data": {
      "text/plain": [
       "Text(0, 0.5, 'Frequency')"
      ]
     },
     "execution_count": 13,
     "metadata": {},
     "output_type": "execute_result"
    },
    {
     "data": {
      "image/png": "[encoded data removed]",
      "text/plain": [
       "<Figure size 432x288 with 1 Axes>"
      ]
     },
     "metadata": {
      "needs_background": "light"
     },
     "output_type": "display_data"
    }
   ],
   "source": [
    "### Distribution of the continuous variables\n",
    "\n",
    "plt.hist(Data[\"Credit Amount\"], bins = 20)\n",
    "plt.xlabel(\"Credit Amount\")\n",
    "plt.ylabel(\"Frequency\")\n"
   ]
  },
  {
   "cell_type": "code",
   "execution_count": 14,
   "metadata": {},
   "outputs": [
    {
     "data": {
      "text/plain": [
       "<matplotlib.axes._subplots.AxesSubplot at 0x23ee5d0ab08>"
      ]
     },
     "execution_count": 14,
     "metadata": {},
     "output_type": "execute_result"
    },
    {
     "data": {
      "image/png": "[encoded data removed]",
      "text/plain": [
       "<Figure size 432x288 with 1 Axes>"
      ]
     },
     "metadata": {
      "needs_background": "light"
     },
     "output_type": "display_data"
    }
   ],
   "source": [
    "sns.boxplot(x=Data[\"Creditability\"], y = Data[\"Credit Amount\"])\n"
   ]
  },
  {
   "cell_type": "code",
   "execution_count": 15,
   "metadata": {},
   "outputs": [
    {
     "data": {
      "text/plain": [
       "Text(0, 0.5, 'Frequency')"
      ]
     },
     "execution_count": 15,
     "metadata": {},
     "output_type": "execute_result"
    },
    {
     "data": {
      "image/png": "[encoded data removed]",
      "text/plain": [
       "<Figure size 432x288 with 1 Axes>"
      ]
     },
     "metadata": {
      "needs_background": "light"
     },
     "output_type": "display_data"
    }
   ],
   "source": [
    "plt.hist(Data[\"Age (years)\"], bins = 16)\n",
    "plt.xlabel(\"Age (years)\")\n",
    "plt.ylabel(\"Frequency\")"
   ]
  },
  {
   "cell_type": "code",
   "execution_count": 16,
   "metadata": {},
   "outputs": [
    {
     "data": {
      "text/plain": [
       "<matplotlib.axes._subplots.AxesSubplot at 0x23ee5e25b48>"
      ]
     },
     "execution_count": 16,
     "metadata": {},
     "output_type": "execute_result"
    },
    {
     "data": {
      "image/png": "[encoded data removed]",
      "text/plain": [
       "<Figure size 432x288 with 1 Axes>"
      ]
     },
     "metadata": {
      "needs_background": "light"
     },
     "output_type": "display_data"
    }
   ],
   "source": [
    "sns.boxplot(x=Data[\"Creditability\"], y = Data[\"Age (years)\"])\n"
   ]
  },
  {
   "cell_type": "code",
   "execution_count": 17,
   "metadata": {},
   "outputs": [
    {
     "data": {
      "text/plain": [
       "Text(0, 0.5, 'Frequency')"
      ]
     },
     "execution_count": 17,
     "metadata": {},
     "output_type": "execute_result"
    },
    {
     "data": {
      "image/png": "[encoded data removed]",
      "text/plain": [
       "<Figure size 432x288 with 1 Axes>"
      ]
     },
     "metadata": {
      "needs_background": "light"
     },
     "output_type": "display_data"
    }
   ],
   "source": [
    "# Histogram for \"Duration of Credit (month)\"\n",
    "\n",
    "plt.hist(Data[\"Duration of Credit (month)\"], bins = 24)\n",
    "plt.xlabel(\"Duration of Credit (month)\")\n",
    "plt.ylabel(\"Frequency\")"
   ]
  },
  {
   "cell_type": "code",
   "execution_count": 18,
   "metadata": {},
   "outputs": [
    {
     "data": {
      "text/plain": [
       "<matplotlib.axes._subplots.AxesSubplot at 0x23ee5f7a088>"
      ]
     },
     "execution_count": 18,
     "metadata": {},
     "output_type": "execute_result"
    },
    {
     "data": {
      "image/png": "[encoded data removed]",
      "text/plain": [
       "<Figure size 432x288 with 1 Axes>"
      ]
     },
     "metadata": {
      "needs_background": "light"
     },
     "output_type": "display_data"
    }
   ],
   "source": [
    "sns.boxplot(x=Data[\"Creditability\"], y = Data[\"Duration of Credit (month)\"])"
   ]
  },
  {
   "cell_type": "code",
   "execution_count": 19,
   "metadata": {},
   "outputs": [
    {
     "name": "stdout",
     "output_type": "stream",
     "text": [
      "Creditability     0     1\n",
      "(%)            30.0  70.0\n",
      "Account Balance     1     2    3     4\n",
      "(%)              27.4  26.9  6.3  39.4\n",
      "Payment Status of Previous Credit    0    1     2    3     4\n",
      "(%)                                4.0  4.9  53.0  8.8  29.3\n",
      "Purpose    0     1     2     3    4    5    6    8    9    10\n",
      "(%)      23.4  10.3  18.1  28.0  1.2  2.2  5.0  0.9  9.7  1.2\n",
      "Value Savings/Stocks     1     2    3    4     5\n",
      "(%)                   60.3  10.3  6.3  4.8  18.3\n",
      "Length of current employment    1     2     3     4     5\n",
      "(%)                           6.2  17.2  33.9  17.4  25.3\n",
      "Instalment per cent     1     2     3     4\n",
      "(%)                  13.6  23.1  15.7  47.6\n",
      "Sex & Marital Status    1     2     3    4\n",
      "(%)                   5.0  31.0  54.8  9.2\n",
      "Guarantors     1    2    3\n",
      "(%)         90.7  4.1  5.2\n",
      "Duration in Current address     1     2     3     4\n",
      "(%)                          13.0  30.8  14.9  41.3\n",
      "Most valuable available asset     1     2     3     4\n",
      "(%)                            28.2  23.2  33.2  15.4\n",
      "Concurrent Credits     1    2     3\n",
      "(%)                 13.9  4.7  81.4\n",
      "Type of apartment     1     2     3\n",
      "(%)                17.9  71.4  10.7\n",
      "No of Credits at this Bank     1     2    3    4\n",
      "(%)                         63.3  33.3  2.8  0.6\n",
      "Occupation    1     2     3     4\n",
      "(%)         2.2  20.0  63.0  14.8\n",
      "No of dependents     1     2\n",
      "(%)               84.5  15.5\n",
      "Telephone     1     2\n",
      "(%)        59.6  40.4\n",
      "Foreign Worker     1    2\n",
      "(%)             96.3  3.7\n"
     ]
    }
   ],
   "source": [
    "category_list = [\"Duration of Credit (month)\", \"Credit Amount\", \"Age (years)\"]\n",
    "Data_categorical = Data[\"Creditability\"]\n",
    "for col in Data:\n",
    "    if col not in category_list:\n",
    "        category_tab = pd.crosstab(columns = Data[col], index = \"Percentage\").apply(lambda r: (r/r.sum())*100, axis=1)\n",
    "        category_tab.index = [\"(%)\"]\n",
    "        print(category_tab)\n",
    "        print"
   ]
  },
  {
   "cell_type": "code",
   "execution_count": 20,
   "metadata": {},
   "outputs": [],
   "source": [
    "### Since most of the predictors are categorical with several levels, the full cross-classification of all variables will lead to\n",
    "#zero observations in many cells. Hence we need to reduce the table size.\n",
    "\n",
    "### Merging Account balance 3 & 4 assigning new values (No account (1), None (No balance) (2), Some Balance (3))\n",
    "Data[\"Account Balance\"].replace(4, 3, inplace = True)"
   ]
  },
  {
   "cell_type": "code",
   "execution_count": 22,
   "metadata": {},
   "outputs": [
    {
     "data": {
      "text/plain": [
       "array([1, 2, 3], dtype=int64)"
      ]
     },
     "execution_count": 22,
     "metadata": {},
     "output_type": "execute_result"
    }
   ],
   "source": [
    "Data[\"Account Balance\"].unique()"
   ]
  },
  {
   "cell_type": "code",
   "execution_count": 23,
   "metadata": {},
   "outputs": [],
   "source": [
    "### New Payment Status: Some Problems (1), Paid Up (2), No Problems (in this bank) (3)\n",
    "Data[\"Payment Status of Previous Credit\"].replace(0, 1, inplace = True)\n",
    "Data[\"Payment Status of Previous Credit\"].replace(4, 3, inplace = True)"
   ]
  },
  {
   "cell_type": "code",
   "execution_count": 24,
   "metadata": {},
   "outputs": [],
   "source": [
    "### Savings/Stock Value: None, Below 100 DM, [100, 1000] DM, Above 1000 DM\n",
    "Data[\"Value Savings/Stocks\"].replace(4, 3, inplace = True)\n",
    "Data[\"Value Savings/Stocks\"].replace(5, 4, inplace = True)"
   ]
  },
  {
   "cell_type": "code",
   "execution_count": 25,
   "metadata": {},
   "outputs": [],
   "source": [
    "### Employment Length: Below 1 year (including unemployed), [1, 4), [4, 7), Above 7\n",
    "Data[\"Length of current employment\"].replace(2, 1, inplace = True)\n",
    "Data[\"Length of current employment\"].replace(3, 2, inplace = True)\n",
    "\n",
    "Data[\"Length of current employment\"].replace(4, 3, inplace = True)\n",
    "Data[\"Length of current employment\"].replace(5, 4, inplace = True)"
   ]
  },
  {
   "cell_type": "code",
   "execution_count": 26,
   "metadata": {},
   "outputs": [],
   "source": [
    "### Occupation: Unemployed/Unskilled, Skilled, Executive\n",
    "Data[\"Occupation\"].replace(2, 1, inplace = True)\n",
    "Data[\"Occupation\"].replace(3, 2, inplace = True)\n",
    "Data[\"Occupation\"].replace(4, 3, inplace = True)"
   ]
  },
  {
   "cell_type": "code",
   "execution_count": 27,
   "metadata": {},
   "outputs": [],
   "source": [
    "### Sex/Marital Status: Male Divorced/Single, Male Married/Widowed, Female\n",
    "Data[\"Sex & Marital Status\"].replace(2, 1, inplace = True)\n",
    "Data[\"Sex & Marital Status\"].replace(3, 2, inplace = True)\n",
    "Data[\"Sex & Marital Status\"].replace(4, 3, inplace = True)"
   ]
  },
  {
   "cell_type": "code",
   "execution_count": 28,
   "metadata": {},
   "outputs": [],
   "source": [
    "### No of Credits at this bank: 1, More than 1\n",
    "Data[\"No of Credits at this Bank\"].replace(3, 2, inplace = True)\n",
    "Data[\"No of Credits at this Bank\"].replace(4, 2, inplace = True)"
   ]
  },
  {
   "cell_type": "code",
   "execution_count": 29,
   "metadata": {},
   "outputs": [],
   "source": [
    "### Guarantor: None, Yes\n",
    "Data[\"Guarantors\"].replace(3, 2, inplace = True)"
   ]
  },
  {
   "cell_type": "code",
   "execution_count": 30,
   "metadata": {},
   "outputs": [],
   "source": [
    "### Concurrent Credits: Other Banks or Dept Stores, None\n",
    "Data[\"Concurrent Credits\"].replace(2, 1, inplace = True)\n",
    "Data[\"Concurrent Credits\"].replace(3, 2, inplace = True)"
   ]
  },
  {
   "cell_type": "code",
   "execution_count": 31,
   "metadata": {},
   "outputs": [],
   "source": [
    "### Purpose of Credit: New car, Used car, Home Related, Other\n",
    "Data[\"Purpose\"].replace([3,4,5], 2, inplace = True)\n",
    "Data[\"Purpose\"].replace([6,7,8,9,10], 3, inplace = True)"
   ]
  },
  {
   "cell_type": "code",
   "execution_count": 33,
   "metadata": {},
   "outputs": [
    {
     "name": "stdout",
     "output_type": "stream",
     "text": [
      "Creditability     0     1\n",
      "(%)            30.0  70.0\n",
      "Account Balance     1     2     3\n",
      "(%)              27.4  26.9  45.7\n",
      "Payment Status of Previous Credit    1     2     3\n",
      "(%)                                8.9  53.0  38.1\n",
      "Purpose     0     1     2     3\n",
      "(%)      23.4  10.3  49.5  16.8\n",
      "Value Savings/Stocks     1     2     3     4\n",
      "(%)                   60.3  10.3  11.1  18.3\n",
      "Length of current employment     1     2     3     4\n",
      "(%)                           23.4  33.9  17.4  25.3\n",
      "Instalment per cent     1     2     3     4\n",
      "(%)                  13.6  23.1  15.7  47.6\n",
      "Sex & Marital Status     1     2    3\n",
      "(%)                   36.0  54.8  9.2\n",
      "Guarantors     1    2\n",
      "(%)         90.7  9.3\n",
      "Duration in Current address     1     2     3     4\n",
      "(%)                          13.0  30.8  14.9  41.3\n",
      "Most valuable available asset     1     2     3     4\n",
      "(%)                            28.2  23.2  33.2  15.4\n",
      "Concurrent Credits     1     2\n",
      "(%)                 18.6  81.4\n",
      "Type of apartment     1     2     3\n",
      "(%)                17.9  71.4  10.7\n",
      "No of Credits at this Bank     1     2\n",
      "(%)                         63.3  36.7\n",
      "Occupation     1     2     3\n",
      "(%)         22.2  63.0  14.8\n",
      "No of dependents     1     2\n",
      "(%)               84.5  15.5\n",
      "Telephone     1     2\n",
      "(%)        59.6  40.4\n",
      "Foreign Worker     1    2\n",
      "(%)             96.3  3.7\n"
     ]
    }
   ],
   "source": [
    "category_list = [\"Duration of Credit (month)\", \"Credit Amount\", \"Age (years)\"]\n",
    "Data_categorical = Data[\"Creditability\"]\n",
    "for col in Data:\n",
    "    if col not in category_list:\n",
    "        category_tab = pd.crosstab(columns = Data[col], index = \"Percentage\").apply(lambda r: (r/r.sum())*100, axis=1)\n",
    "        category_tab.index = [\"(%)\"]\n",
    "        print(category_tab)\n",
    "        print\n"
   ]
  },
  {
   "cell_type": "code",
   "execution_count": 34,
   "metadata": {},
   "outputs": [
    {
     "data": {
      "text/html": [
       "<div>\n",
       "<style scoped>\n",
       "    .dataframe tbody tr th:only-of-type {\n",
       "        vertical-align: middle;\n",
       "    }\n",
       "\n",
       "    .dataframe tbody tr th {\n",
       "        vertical-align: top;\n",
       "    }\n",
       "\n",
       "    .dataframe thead th {\n",
       "        text-align: right;\n",
       "    }\n",
       "</style>\n",
       "<table border=\"1\" class=\"dataframe\">\n",
       "  <thead>\n",
       "    <tr style=\"text-align: right;\">\n",
       "      <th>Creditability</th>\n",
       "      <th>0</th>\n",
       "      <th>1</th>\n",
       "      <th>All</th>\n",
       "    </tr>\n",
       "    <tr>\n",
       "      <th>Account Balance</th>\n",
       "      <th></th>\n",
       "      <th></th>\n",
       "      <th></th>\n",
       "    </tr>\n",
       "  </thead>\n",
       "  <tbody>\n",
       "    <tr>\n",
       "      <td>1</td>\n",
       "      <td>135</td>\n",
       "      <td>139</td>\n",
       "      <td>274</td>\n",
       "    </tr>\n",
       "    <tr>\n",
       "      <td>2</td>\n",
       "      <td>105</td>\n",
       "      <td>164</td>\n",
       "      <td>269</td>\n",
       "    </tr>\n",
       "    <tr>\n",
       "      <td>3</td>\n",
       "      <td>60</td>\n",
       "      <td>397</td>\n",
       "      <td>457</td>\n",
       "    </tr>\n",
       "    <tr>\n",
       "      <td>All</td>\n",
       "      <td>300</td>\n",
       "      <td>700</td>\n",
       "      <td>1000</td>\n",
       "    </tr>\n",
       "  </tbody>\n",
       "</table>\n",
       "</div>"
      ],
      "text/plain": [
       "Creditability      0    1   All\n",
       "Account Balance                \n",
       "1                135  139   274\n",
       "2                105  164   269\n",
       "3                 60  397   457\n",
       "All              300  700  1000"
      ]
     },
     "execution_count": 34,
     "metadata": {},
     "output_type": "execute_result"
    }
   ],
   "source": [
    "## Contingency table for Account Balance\n",
    "acc_bal_tab1 = pd.crosstab(Data[\"Account Balance\"], Data[\"Creditability\"], margins = True)\n",
    "acc_bal_tab1"
   ]
  },
  {
   "cell_type": "code",
   "execution_count": 36,
   "metadata": {},
   "outputs": [
    {
     "name": "stdout",
     "output_type": "stream",
     "text": [
      "120.84376361168341\n",
      "1.083531364440226e-23\n",
      "6\n",
      "[[  82.2  191.8  274. ]\n",
      " [  80.7  188.3  269. ]\n",
      " [ 137.1  319.9  457. ]\n",
      " [ 300.   700.  1000. ]]\n"
     ]
    }
   ],
   "source": [
    "chi2, p, dof, exp = scipy.stats.chi2_contingency(acc_bal_tab1)\n",
    "print(chi2)\n",
    "print(p)\n",
    "print(dof)\n",
    "print(exp)"
   ]
  },
  {
   "cell_type": "code",
   "execution_count": 37,
   "metadata": {
    "scrolled": true
   },
   "outputs": [
    {
     "data": {
      "text/plain": [
       "['Creditability',\n",
       " 'Account Balance',\n",
       " 'Duration of Credit (month)',\n",
       " 'Payment Status of Previous Credit',\n",
       " 'Purpose',\n",
       " 'Credit Amount',\n",
       " 'Value Savings/Stocks',\n",
       " 'Length of current employment',\n",
       " 'Instalment per cent',\n",
       " 'Sex & Marital Status',\n",
       " 'Guarantors',\n",
       " 'Duration in Current address',\n",
       " 'Most valuable available asset',\n",
       " 'Age (years)',\n",
       " 'Concurrent Credits',\n",
       " 'Type of apartment',\n",
       " 'No of Credits at this Bank',\n",
       " 'Occupation',\n",
       " 'No of dependents',\n",
       " 'Telephone',\n",
       " 'Foreign Worker']"
      ]
     },
     "execution_count": 37,
     "metadata": {},
     "output_type": "execute_result"
    }
   ],
   "source": [
    "col_list = []\n",
    "for col in Data:\n",
    "    col_list.append(col)\n",
    "\n",
    "col_list"
   ]
  },
  {
   "cell_type": "code",
   "execution_count": 38,
   "metadata": {},
   "outputs": [
    {
     "name": "stdout",
     "output_type": "stream",
     "text": [
      "Account Balance    1    2    3   All\n",
      "Creditability                       \n",
      "0                135  105   60   300\n",
      "1                139  164  397   700\n",
      "All              274  269  457  1000\n",
      "Chi Test Statistic: 120.84376361168343\n",
      "p-value: 1.0835313644402181e-23\n",
      "dof: 6\n",
      "Payment Status of Previous Credit   1    2    3   All\n",
      "Creditability                                        \n",
      "0                                  53  169   78   300\n",
      "1                                  36  361  303   700\n",
      "All                                89  530  381  1000\n",
      "Chi Test Statistic: 54.37609969095182\n",
      "p-value: 6.194785616657e-10\n",
      "dof: 6\n",
      "Purpose          0    1    2    3   All\n",
      "Creditability                          \n",
      "0               89   17  132   62   300\n",
      "1              145   86  363  106   700\n",
      "All            234  103  495  168  1000\n",
      "Chi Test Statistic: 22.558118924277036\n",
      "p-value: 0.003980401807716201\n",
      "dof: 8\n",
      "Value Savings/Stocks    1    2    3    4   All\n",
      "Creditability                                 \n",
      "0                     217   34   17   32   300\n",
      "1                     386   69   94  151   700\n",
      "All                   603  103  111  183  1000\n",
      "Chi Test Statistic: 35.77973144465052\n",
      "p-value: 1.9267670264020237e-05\n",
      "dof: 8\n",
      "Length of current employment    1    2    3    4   All\n",
      "Creditability                                         \n",
      "0                              93  104   39   64   300\n",
      "1                             141  235  135  189   700\n",
      "All                           234  339  174  253  1000\n",
      "Chi Test Statistic: 18.086884818120975\n",
      "p-value: 0.020584447796201676\n",
      "dof: 8\n",
      "Instalment per cent    1    2    3    4   All\n",
      "Creditability                                \n",
      "0                     34   62   45  159   300\n",
      "1                    102  169  112  317   700\n",
      "All                  136  231  157  476  1000\n",
      "Chi Test Statistic: 5.476792145153753\n",
      "p-value: 0.7056098522353074\n",
      "dof: 8\n",
      "Sex & Marital Status    1    2   3   All\n",
      "Creditability                           \n",
      "0                     129  146  25   300\n",
      "1                     231  402  67   700\n",
      "All                   360  548  92  1000\n",
      "Chi Test Statistic: 9.125183237369843\n",
      "p-value: 0.16665929177268657\n",
      "dof: 6\n",
      "Guarantors       1   2   All\n",
      "Creditability               \n",
      "0              272  28   300\n",
      "1              635  65   700\n",
      "All            907  93  1000\n",
      "Chi Test Statistic: 0.0005645344764027578\n",
      "p-value: 0.9999999601700988\n",
      "dof: 4\n",
      "Duration in Current address    1    2    3    4   All\n",
      "Creditability                                        \n",
      "0                             36   97   43  124   300\n",
      "1                             94  211  106  289   700\n",
      "All                          130  308  149  413  1000\n",
      "Chi Test Statistic: 0.7492964483880513\n",
      "p-value: 0.9993905365113295\n",
      "dof: 8\n",
      "Most valuable available asset    1    2    3    4   All\n",
      "Creditability                                          \n",
      "0                               60   71  102   67   300\n",
      "1                              222  161  230   87   700\n",
      "All                            282  232  332  154  1000\n",
      "Chi Test Statistic: 23.719551283864703\n",
      "p-value: 0.0025534218926398324\n",
      "dof: 8\n",
      "Concurrent Credits    1    2   All\n",
      "Creditability                     \n",
      "0                    76  224   300\n",
      "1                   110  590   700\n",
      "All                 186  814  1000\n",
      "Chi Test Statistic: 12.833528962561221\n",
      "p-value: 0.012118506003993987\n",
      "dof: 4\n",
      "Type of apartment    1    2    3   All\n",
      "Creditability                         \n",
      "0                   70  186   44   300\n",
      "1                  109  528   63   700\n",
      "All                179  714  107  1000\n",
      "Chi Test Statistic: 18.674005392894895\n",
      "p-value: 0.004751120017410726\n",
      "dof: 6\n",
      "No of Credits at this Bank    1    2   All\n",
      "Creditability                             \n",
      "0                           200  100   300\n",
      "1                           433  267   700\n",
      "All                         633  367  1000\n",
      "Chi Test Statistic: 2.090998294363612\n",
      "p-value: 0.7190263270570006\n",
      "dof: 4\n",
      "Occupation       1    2    3   All\n",
      "Creditability                     \n",
      "0               63  186   51   300\n",
      "1              159  444   97   700\n",
      "All            222  630  148  1000\n",
      "Chi Test Statistic: 1.747563890421032\n",
      "p-value: 0.9413905037285847\n",
      "dof: 6\n",
      "No of dependents    1    2   All\n",
      "Creditability                   \n",
      "0                 254   46   300\n",
      "1                 591  109   700\n",
      "All               845  155  1000\n",
      "Chi Test Statistic: 0.00908933911415301\n",
      "p-value: 0.9999897042246169\n",
      "dof: 4\n",
      "Telephone        1    2   All\n",
      "Creditability                \n",
      "0              187  113   300\n",
      "1              409  291   700\n",
      "All            596  404  1000\n",
      "Chi Test Statistic: 1.3297830262412609\n",
      "p-value: 0.8563025242511287\n",
      "dof: 4\n",
      "Foreign Worker    1   2   All\n",
      "Creditability                \n",
      "0               296   4   300\n",
      "1               667  33   700\n",
      "All             963  37  1000\n",
      "Chi Test Statistic: 6.737044120221693\n",
      "p-value: 0.15045408723319523\n",
      "dof: 4\n"
     ]
    }
   ],
   "source": [
    "### Contingency tables and Chi-test for categorical variables\n",
    "### Chi-square test of independence of variables in a contingency table.\n",
    "sig_col_list = []\n",
    "#category_col_list = [\"Account Balance\", \"Payment Status of Previous Credit\", \"Value Savings/Stocks\", \"Length of current employment\", \"Sex & Marital Status\", \"No of Credits at this Bank\", \"Guarantors\", \"Concurrent Credits\", \"Type of apartment\", \"No of dependents\", \"Purpose\", \"Instalment per cent\"]\n",
    "for col in col_list:\n",
    "    if col == \"Creditability\" or col ==\"Duration of Credit (month)\" or col == \"Credit Amount\" or col == \"Age (years)\":\n",
    "        pass\n",
    "    else:\n",
    "        contingency_tab = pd.crosstab(Data[\"Creditability\"],Data[col], margins = True)\n",
    "        print(contingency_tab)\n",
    "        chi_stat, p_value, dof, expect_array  = scipy.stats.chi2_contingency(contingency_tab, correction = True)\n",
    "        msg = \"Chi Test Statistic: {}\\np-value: {}\\ndof: {}\"\n",
    "        print(msg.format(chi_stat, p_value, dof))\n",
    "        print\n",
    "        if p_value < 0.05: #Threshold probability of 0.05\n",
    "            sig_col_list.append(col)\n",
    "    "
   ]
  },
  {
   "cell_type": "code",
   "execution_count": 39,
   "metadata": {},
   "outputs": [
    {
     "name": "stdout",
     "output_type": "stream",
     "text": [
      "['Account Balance', 'Payment Status of Previous Credit', 'Purpose', 'Value Savings/Stocks', 'Length of current employment', 'Most valuable available asset', 'Concurrent Credits', 'Type of apartment']\n"
     ]
    }
   ],
   "source": [
    "print(sig_col_list)"
   ]
  },
  {
   "cell_type": "code",
   "execution_count": 41,
   "metadata": {},
   "outputs": [
    {
     "name": "stdout",
     "output_type": "stream",
     "text": [
      "Duration of Credit (month)\n",
      "count    1000.000000\n",
      "mean       20.903000\n",
      "std        12.058814\n",
      "min         4.000000\n",
      "25%        12.000000\n",
      "50%        18.000000\n",
      "75%        24.000000\n",
      "max        72.000000\n",
      "Name: Duration of Credit (month), dtype: float64\n",
      "Credit Amount\n",
      "count     1000.00000\n",
      "mean      3271.24800\n",
      "std       2822.75176\n",
      "min        250.00000\n",
      "25%       1365.50000\n",
      "50%       2319.50000\n",
      "75%       3972.25000\n",
      "max      18424.00000\n",
      "Name: Credit Amount, dtype: float64\n",
      "Age (years)\n",
      "count    1000.00000\n",
      "mean       35.54200\n",
      "std        11.35267\n",
      "min        19.00000\n",
      "25%        27.00000\n",
      "50%        33.00000\n",
      "75%        42.00000\n",
      "max        75.00000\n",
      "Name: Age (years), dtype: float64\n"
     ]
    }
   ],
   "source": [
    "### Summary Statistics for Continuous Variables\n",
    "\n",
    "continuous_list = [\"Duration of Credit (month)\", \"Credit Amount\", \"Age (years)\"]\n",
    "for col in continuous_list:\n",
    "    continuous_summary = Data[col].describe()\n",
    "    print(col)\n",
    "    print(continuous_summary)"
   ]
  },
  {
   "cell_type": "code",
   "execution_count": 42,
   "metadata": {},
   "outputs": [
    {
     "data": {
      "text/html": [
       "<div>\n",
       "<style scoped>\n",
       "    .dataframe tbody tr th:only-of-type {\n",
       "        vertical-align: middle;\n",
       "    }\n",
       "\n",
       "    .dataframe tbody tr th {\n",
       "        vertical-align: top;\n",
       "    }\n",
       "\n",
       "    .dataframe thead th {\n",
       "        text-align: right;\n",
       "    }\n",
       "</style>\n",
       "<table border=\"1\" class=\"dataframe\">\n",
       "  <thead>\n",
       "    <tr style=\"text-align: right;\">\n",
       "      <th></th>\n",
       "      <th>Credit Amount</th>\n",
       "      <th>Duration of Credit (month)</th>\n",
       "      <th>Age (years)</th>\n",
       "    </tr>\n",
       "    <tr>\n",
       "      <th>Creditability</th>\n",
       "      <th></th>\n",
       "      <th></th>\n",
       "      <th></th>\n",
       "    </tr>\n",
       "  </thead>\n",
       "  <tbody>\n",
       "    <tr>\n",
       "      <td>0</td>\n",
       "      <td>3938.126667</td>\n",
       "      <td>24.860000</td>\n",
       "      <td>33.96</td>\n",
       "    </tr>\n",
       "    <tr>\n",
       "      <td>1</td>\n",
       "      <td>2985.442857</td>\n",
       "      <td>19.207143</td>\n",
       "      <td>36.22</td>\n",
       "    </tr>\n",
       "  </tbody>\n",
       "</table>\n",
       "</div>"
      ],
      "text/plain": [
       "               Credit Amount  Duration of Credit (month)  Age (years)\n",
       "Creditability                                                        \n",
       "0                3938.126667                   24.860000        33.96\n",
       "1                2985.442857                   19.207143        36.22"
      ]
     },
     "execution_count": 42,
     "metadata": {},
     "output_type": "execute_result"
    }
   ],
   "source": [
    "Data.groupby([\"Creditability\"])[\"Credit Amount\", \"Duration of Credit (month)\", \"Age (years)\"].mean()"
   ]
  },
  {
   "cell_type": "code",
   "execution_count": 43,
   "metadata": {},
   "outputs": [
    {
     "name": "stdout",
     "output_type": "stream",
     "text": [
      "Credit Amount\n",
      "p_ttest is too low, so t_stat falls in critical region: Reject Null\n"
     ]
    }
   ],
   "source": [
    "### Calculating P-value (T-TEST) for continuous variables - Credit Amount\n",
    "df_credit_0 = Data[Data[\"Creditability\"] == 0][\"Credit Amount\"]\n",
    "df_credit_1 = Data[Data[\"Creditability\"] == 1][\"Credit Amount\"]\n",
    "t_stat, p_ttest = scipy.stats.ttest_ind(df_credit_0,df_credit_1)\n",
    "print(\"Credit Amount\")\n",
    "if p_ttest <= 0.05:\n",
    "    print(\"p_ttest is too low, so t_stat falls in critical region: Reject Null\")\n",
    "    sig_col_list.append(\"Credit Amount\")\n",
    "else:\n",
    "    print(\"Fails to reject Null Hypothesis\")"
   ]
  },
  {
   "cell_type": "code",
   "execution_count": 46,
   "metadata": {},
   "outputs": [
    {
     "name": "stdout",
     "output_type": "stream",
     "text": [
      "Duration of Credit (month)\n",
      "p_ttest is too low, so t_stat falls in critical region: Reject Null\n"
     ]
    }
   ],
   "source": [
    "### Calculating P-value (T-TEST) for continuous variables - Duration of Credit\n",
    "\n",
    "df_duration_0 = Data[Data[\"Creditability\"] == 0][\"Duration of Credit (month)\"]\n",
    "df_duration_1 = Data[Data[\"Creditability\"] == 1][\"Duration of Credit (month)\"]\n",
    "t_stat, p_ttest = scipy.stats.ttest_ind(df_duration_0,df_duration_1)\n",
    "print(\"Duration of Credit (month)\")\n",
    "if p_ttest <= 0.05:\n",
    "    print(\"p_ttest is too low, so t_stat falls in critical region: Reject Null\")\n",
    "    sig_col_list.append(\"Duration of Credit (month)\")\n",
    "else:\n",
    "    print(\"Fails to reject Null Hypothesis\")"
   ]
  },
  {
   "cell_type": "code",
   "execution_count": 47,
   "metadata": {},
   "outputs": [
    {
     "name": "stdout",
     "output_type": "stream",
     "text": [
      "Age (years)\n",
      "p_ttest is too low, so t_stat falls in critical region: Reject Null\n"
     ]
    }
   ],
   "source": [
    "### Calculating P-value (T-TEST) for continuous variables - AGE\n",
    "\n",
    "df_age_0 = Data[Data[\"Creditability\"] == 0][\"Age (years)\"]\n",
    "df_age_1 = Data[Data[\"Creditability\"] == 1][\"Age (years)\"]\n",
    "t_stat, p_ttest = scipy.stats.ttest_ind(df_age_0,df_age_1)\n",
    "print(\"Age (years)\")\n",
    "if p_ttest <= 0.05:\n",
    "    print(\"p_ttest is too low, so t_stat falls in critical region: Reject Null\")\n",
    "    sig_col_list.append(\"Age (years)\")\n",
    "\n",
    "else:\n",
    "    print(\"Fails to reject Null Hypothesis\")"
   ]
  },
  {
   "cell_type": "code",
   "execution_count": 48,
   "metadata": {},
   "outputs": [
    {
     "data": {
      "text/plain": [
       "['Account Balance',\n",
       " 'Payment Status of Previous Credit',\n",
       " 'Purpose',\n",
       " 'Value Savings/Stocks',\n",
       " 'Length of current employment',\n",
       " 'Most valuable available asset',\n",
       " 'Concurrent Credits',\n",
       " 'Type of apartment',\n",
       " 'Credit Amount',\n",
       " 'Duration of Credit (month)',\n",
       " 'Age (years)']"
      ]
     },
     "execution_count": 48,
     "metadata": {},
     "output_type": "execute_result"
    }
   ],
   "source": [
    "sig_col_list"
   ]
  },
  {
   "cell_type": "code",
   "execution_count": 49,
   "metadata": {},
   "outputs": [],
   "source": [
    "features = Data[['Account Balance',\n",
    " 'Payment Status of Previous Credit',\n",
    " 'Purpose',\n",
    " 'Value Savings/Stocks',\n",
    " 'Length of current employment',\n",
    " 'Most valuable available asset',\n",
    " 'Concurrent Credits',\n",
    " 'Type of apartment',\n",
    " 'Credit Amount',\n",
    " 'Duration of Credit (month)',\n",
    " 'Age (years)']]\n",
    "\n",
    "#features = np.array(features)\n",
    "\n",
    "label = np.array(Data[\"Creditability\"])\n"
   ]
  },
  {
   "cell_type": "code",
   "execution_count": 50,
   "metadata": {},
   "outputs": [],
   "source": [
    "### Splitting data for training and test 50/50 for our Base Model - Logistic Regression\n",
    "\n",
    "features_train, features_test, label_train, label_test = train_test_split(features, label, test_size = 0.5, random_state = 1)"
   ]
  },
  {
   "cell_type": "code",
   "execution_count": 52,
   "metadata": {},
   "outputs": [
    {
     "name": "stdout",
     "output_type": "stream",
     "text": [
      "LogisticRegression(C=1.0, class_weight=None, dual=False, fit_intercept=True,\n",
      "                   intercept_scaling=1, l1_ratio=None, max_iter=100,\n",
      "                   multi_class='warn', n_jobs=None, penalty='l2',\n",
      "                   random_state=None, solver='warn', tol=0.0001, verbose=0,\n",
      "                   warm_start=False)\n"
     ]
    },
    {
     "name": "stderr",
     "output_type": "stream",
     "text": [
      "C:\\Users\\Pardhu CooL\\Anaconda3\\lib\\site-packages\\sklearn\\linear_model\\logistic.py:432: FutureWarning: Default solver will be changed to 'lbfgs' in 0.22. Specify a solver to silence this warning.\n",
      "  FutureWarning)\n"
     ]
    }
   ],
   "source": [
    "lrm = LogisticRegression()\n",
    "lrm.fit(features_train, label_train)\n",
    "print(lrm)"
   ]
  },
  {
   "cell_type": "code",
   "execution_count": 53,
   "metadata": {},
   "outputs": [],
   "source": [
    "pred = lrm.predict(features_test)"
   ]
  },
  {
   "cell_type": "code",
   "execution_count": 64,
   "metadata": {},
   "outputs": [
    {
     "name": "stdout",
     "output_type": "stream",
     "text": [
      "Score of training data:  0.758\n",
      "Score of testing data:  0.746\n"
     ]
    }
   ],
   "source": [
    "print(\"Score of training data: \", lrm.score(features_train, label_train))\n",
    "print(\"Score of testing data: \", lrm.score(features_test, label_test))\n",
    "#print(metrics.accuracy_score(label_test,pred))"
   ]
  },
  {
   "cell_type": "code",
   "execution_count": null,
   "metadata": {},
   "outputs": [],
   "source": [
    "from sklearn.metrics import confusion_matrix\n",
    "cm = confusion_matrix(label_test,pred)\n",
    "sns.heatmap(cm,center=True)\n",
    "plt.show()"
   ]
  },
  {
   "cell_type": "code",
   "execution_count": 56,
   "metadata": {
    "scrolled": false
   },
   "outputs": [
    {
     "data": {
      "text/plain": [
       "KNeighborsClassifier(algorithm='auto', leaf_size=30, metric='minkowski',\n",
       "                     metric_params=None, n_jobs=None, n_neighbors=5, p=2,\n",
       "                     weights='uniform')"
      ]
     },
     "execution_count": 56,
     "metadata": {},
     "output_type": "execute_result"
    }
   ],
   "source": [
    "from sklearn.neighbors import KNeighborsClassifier\n",
    "knn = KNeighborsClassifier(n_neighbors=5)\n",
    "knn.fit(features_train,label_train)"
   ]
  },
  {
   "cell_type": "code",
   "execution_count": 57,
   "metadata": {},
   "outputs": [],
   "source": [
    "pred1 = knn.predict(features_test)"
   ]
  },
  {
   "cell_type": "code",
   "execution_count": 63,
   "metadata": {},
   "outputs": [
    {
     "name": "stdout",
     "output_type": "stream",
     "text": [
      "Score of training data:  0.758\n",
      "Score of testing data:  0.746\n"
     ]
    }
   ],
   "source": [
    "print(\"Score of training data: \", lrm.score(features_train, label_train))\n",
    "print(\"Score of testing data: \", lrm.score(features_test, label_test))\n",
    "#print(metrics.accuracy_score(label_test,pred1))"
   ]
  },
  {
   "cell_type": "code",
   "execution_count": null,
   "metadata": {},
   "outputs": [],
   "source": [
    "from sklearn.metrics import confusion_matrix\n",
    "cm = confusion_matrix(label_test,pred1)\n",
    "sns.heatmap(cm,center=True)\n",
    "plt.show()"
   ]
  },
  {
   "cell_type": "code",
   "execution_count": 65,
   "metadata": {},
   "outputs": [
    {
     "data": {
      "text/plain": [
       "RandomForestClassifier(bootstrap=True, class_weight=None, criterion='entropy',\n",
       "                       max_depth=None, max_features='auto', max_leaf_nodes=None,\n",
       "                       min_impurity_decrease=0.0, min_impurity_split=None,\n",
       "                       min_samples_leaf=1, min_samples_split=2,\n",
       "                       min_weight_fraction_leaf=0.0, n_estimators=50,\n",
       "                       n_jobs=None, oob_score=False, random_state=None,\n",
       "                       verbose=0, warm_start=False)"
      ]
     },
     "execution_count": 65,
     "metadata": {},
     "output_type": "execute_result"
    }
   ],
   "source": [
    "from sklearn.ensemble import RandomForestClassifier\n",
    "rfc=RandomForestClassifier(n_estimators=50,criterion='entropy')\n",
    "rfc.fit(features_train,label_train)"
   ]
  },
  {
   "cell_type": "code",
   "execution_count": 67,
   "metadata": {},
   "outputs": [],
   "source": [
    "y_pred_rfc=rfc.predict(features_test)"
   ]
  },
  {
   "cell_type": "code",
   "execution_count": 72,
   "metadata": {},
   "outputs": [
    {
     "name": "stdout",
     "output_type": "stream",
     "text": [
      "Score of training data:  1.0\n",
      "Score of testing data:  0.728\n"
     ]
    }
   ],
   "source": [
    "print(\"Score of training data: \", rfc.score(features_train, label_train))\n",
    "print(\"Score of testing data: \", rfc.score(features_test, label_test))\n",
    "#print(metrics.accuracy_score(label_test,y_pred_rfc))"
   ]
  },
  {
   "cell_type": "code",
   "execution_count": null,
   "metadata": {},
   "outputs": [],
   "source": [
    "from sklearn.metrics import confusion_matrix\n",
    "cm = confusion_matrix(label_test,y_pred_rfc)\n",
    "sns.heatmap(cm,center=True)\n",
    "plt.show()"
   ]
  },
  {
   "cell_type": "code",
   "execution_count": null,
   "metadata": {},
   "outputs": [
    {
     "name": "stderr",
     "output_type": "stream",
     "text": [
      "C:\\Users\\Pardhu CooL\\Anaconda3\\lib\\site-packages\\sklearn\\model_selection\\_split.py:1978: FutureWarning: The default value of cv will change from 3 to 5 in version 0.22. Specify it explicitly to silence this warning.\n",
      "  warnings.warn(CV_WARNING, FutureWarning)\n"
     ]
    }
   ],
   "source": [
    "from sklearn.model_selection import GridSearchCV\n",
    "from sklearn import svm\n",
    "param_grid = [{'C': [1, 10, 100, 1000], 'kernel': ['linear']},{'C': [1, 10, 100, 1000], 'gamma': [0.001, 0.0001], 'kernel': ['rbf']},]\n",
    "svc = svm.SVC()\n",
    "clf = GridSearchCV(svc, param_grid)\n",
    "clf.fit(features_train, label_train)\n",
    "y_pred_svc = clf.predict(features_test)"
   ]
  },
  {
   "cell_type": "code",
   "execution_count": null,
   "metadata": {},
   "outputs": [],
   "source": [
    "from sklearn.metrics import confusion_matrix\n",
    "cm = confusion_matrix(label_test,y_pred_svc)\n",
    "sns.heatmap(cm,center=True)\n",
    "plt.show()"
   ]
  },
  {
   "cell_type": "code",
   "execution_count": null,
   "metadata": {},
   "outputs": [],
   "source": [
    "# print \"slope: \", lrm.coef_\n",
    "# print \"intercept: \", lrm.intercept_"
   ]
  },
  {
   "cell_type": "code",
   "execution_count": null,
   "metadata": {},
   "outputs": [],
   "source": [
    "#metrics.confusion_matrix(label_test, pred)"
   ]
  },
  {
   "cell_type": "code",
   "execution_count": 58,
   "metadata": {},
   "outputs": [
    {
     "data": {
      "text/html": [
       "<div>\n",
       "<style scoped>\n",
       "    .dataframe tbody tr th:only-of-type {\n",
       "        vertical-align: middle;\n",
       "    }\n",
       "\n",
       "    .dataframe tbody tr th {\n",
       "        vertical-align: top;\n",
       "    }\n",
       "\n",
       "    .dataframe thead th {\n",
       "        text-align: right;\n",
       "    }\n",
       "</style>\n",
       "<table border=\"1\" class=\"dataframe\">\n",
       "  <thead>\n",
       "    <tr style=\"text-align: right;\">\n",
       "      <th></th>\n",
       "      <th>0</th>\n",
       "      <th>1</th>\n",
       "    </tr>\n",
       "  </thead>\n",
       "  <tbody>\n",
       "    <tr>\n",
       "      <td>0</td>\n",
       "      <td>Account Balance</td>\n",
       "      <td>[0.68484891020891]</td>\n",
       "    </tr>\n",
       "    <tr>\n",
       "      <td>1</td>\n",
       "      <td>Payment Status of Previous Credit</td>\n",
       "      <td>[0.336957919115302]</td>\n",
       "    </tr>\n",
       "    <tr>\n",
       "      <td>2</td>\n",
       "      <td>Purpose</td>\n",
       "      <td>[0.13102327549583304]</td>\n",
       "    </tr>\n",
       "    <tr>\n",
       "      <td>3</td>\n",
       "      <td>Value Savings/Stocks</td>\n",
       "      <td>[0.20594190870567142]</td>\n",
       "    </tr>\n",
       "    <tr>\n",
       "      <td>4</td>\n",
       "      <td>Length of current employment</td>\n",
       "      <td>[0.2690067283727931]</td>\n",
       "    </tr>\n",
       "    <tr>\n",
       "      <td>5</td>\n",
       "      <td>Most valuable available asset</td>\n",
       "      <td>[-0.35005652061871495]</td>\n",
       "    </tr>\n",
       "    <tr>\n",
       "      <td>6</td>\n",
       "      <td>Concurrent Credits</td>\n",
       "      <td>[-0.3499209964243381]</td>\n",
       "    </tr>\n",
       "    <tr>\n",
       "      <td>7</td>\n",
       "      <td>Type of apartment</td>\n",
       "      <td>[0.463525508748141]</td>\n",
       "    </tr>\n",
       "    <tr>\n",
       "      <td>8</td>\n",
       "      <td>Credit Amount</td>\n",
       "      <td>[1.3025870888420486e-05]</td>\n",
       "    </tr>\n",
       "    <tr>\n",
       "      <td>9</td>\n",
       "      <td>Duration of Credit (month)</td>\n",
       "      <td>[-0.04611201652679574]</td>\n",
       "    </tr>\n",
       "    <tr>\n",
       "      <td>10</td>\n",
       "      <td>Age (years)</td>\n",
       "      <td>[-0.012731984591534446]</td>\n",
       "    </tr>\n",
       "  </tbody>\n",
       "</table>\n",
       "</div>"
      ],
      "text/plain": [
       "                                    0                         1\n",
       "0                     Account Balance        [0.68484891020891]\n",
       "1   Payment Status of Previous Credit       [0.336957919115302]\n",
       "2                             Purpose     [0.13102327549583304]\n",
       "3                Value Savings/Stocks     [0.20594190870567142]\n",
       "4        Length of current employment      [0.2690067283727931]\n",
       "5       Most valuable available asset    [-0.35005652061871495]\n",
       "6                  Concurrent Credits     [-0.3499209964243381]\n",
       "7                   Type of apartment       [0.463525508748141]\n",
       "8                       Credit Amount  [1.3025870888420486e-05]\n",
       "9          Duration of Credit (month)    [-0.04611201652679574]\n",
       "10                        Age (years)   [-0.012731984591534446]"
      ]
     },
     "execution_count": 58,
     "metadata": {},
     "output_type": "execute_result"
    }
   ],
   "source": [
    "pd.DataFrame(zip(features.columns, np.transpose(lrm.coef_)))"
   ]
  },
  {
   "cell_type": "code",
   "execution_count": null,
   "metadata": {},
   "outputs": [],
   "source": []
  },
  {
   "cell_type": "code",
   "execution_count": null,
   "metadata": {},
   "outputs": [],
   "source": []
  }
 ],
 "metadata": {
  "anaconda-cloud": {},
  "kernelspec": {
   "display_name": "Python 3",
   "language": "python",
   "name": "python3"
  },
  "language_info": {
   "codemirror_mode": {
    "name": "ipython",
    "version": 3
   },
   "file_extension": ".py",
   "mimetype": "text/x-python",
   "name": "python",
   "nbconvert_exporter": "python",
   "pygments_lexer": "ipython3",
   "version": "3.7.4"
  }
 },
 "nbformat": 4,
 "nbformat_minor": 1
}
